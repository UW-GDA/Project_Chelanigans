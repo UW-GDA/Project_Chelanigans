{
 "cells": [
  {
   "cell_type": "markdown",
   "id": "dcd5fd82-c6ae-473a-b732-13bdb094fa77",
   "metadata": {},
   "source": [
    "# Demo: Landsat and Dynamic Data Access\n",
    "UW Geospatial Data Analysis  \n",
    "CEE467/CEWA567  \n",
    "David Shean  "
   ]
  },
  {
   "cell_type": "markdown",
   "id": "1b2bae57-2955-4023-8f6c-653327a925a4",
   "metadata": {},
   "source": [
    "## Introduction\n",
    "* Hopefully you've all seen or used Landsat imagery at some point in the past\n",
    "* Take a few minutes to refresh your memory: https://www.usgs.gov/land-resources/nli/landsat\n",
    "* There is a huge amount of information out there on the Landsat missions, data products, science results\n",
    "* USGS and NASA partnership"
   ]
  },
  {
   "cell_type": "markdown",
   "id": "ee5f9f05-4845-4284-b012-d433366467ee",
   "metadata": {
    "tags": []
   },
   "source": [
    "## Landsat-8\n",
    "* Landsat-8 is the mission (a satellite)\n",
    "    * Operational Land Imager (OLI) is an instrument (a camera)\n",
    "    * Thermal Infrared Sensor (TIRS) is an insitrument (also a camera, but measures thermal infrared radiation, surface temperature)\n",
    "\n",
    "Take a look at useful info here: \n",
    "* https://landsat.gsfc.nasa.gov/landsat-8/landsat-8-overview\n",
    "* https://www.usgs.gov/land-resources/nli/landsat/landsat-8"
   ]
  },
  {
   "cell_type": "markdown",
   "id": "c6957e08-84f3-4011-b9bf-3ebd97c977e6",
   "metadata": {},
   "source": [
    "### Orbit and Data collection\n",
    "Landsat 8 orbits the the Earth in a sun-synchronous, near-polar orbit, at an altitude of 705 km (438 mi), inclined at 98.2 degrees, and completes one Earth orbit every 99 minutes.  The satellite has a 16-day repeat cycle with an equatorial crossing time: 10:00 a.m. +/- 15 minutes.  \n",
    "\n",
    "Landsat 8 aquires about 740 scenes a day on the Worldwide Reference System-2 (WRS-2) path/row system, with a swath overlap (or sidelap) varying from 7 percent at the equator to a maximum of approximately 85 percent at extreme latitudes. A Landsat 8 scene size is 185 km x 180 km (114 mi x 112 mi). "
   ]
  },
  {
   "cell_type": "markdown",
   "id": "d8e2bfa0-d8dc-4c43-9e6c-a2c29f36c6af",
   "metadata": {},
   "source": [
    "### Instruments and Bands \n",
    "* https://www.usgs.gov/faqs/what-are-band-designations-landsat-satellites\n",
    "\n",
    "So, Landsat-8 sensor is the top row of colored bands in the following figure (lower rows are for older Landsat sensors):\n",
    "\n",
    "![LS8 bands](https://landsat.usgs.gov/sites/default/files/images/MSS-thru-L9-wavelengths.jpg)\n",
    "\n",
    "For comparison with previous Landsat missions: https://www.usgs.gov/faqs/what-are-band-designations-landsat-satellites?qt-news_science_products=0#qt-news_science_products"
   ]
  },
  {
   "cell_type": "markdown",
   "id": "f0ca0602-1e06-488c-bbe8-8e3dffbca9c9",
   "metadata": {},
   "source": [
    "### Dynamic Range\n",
    "* LS8 OLI provides 12-bit dynamic range, which improves signal to noise ratio.\n",
    "    * Remember, each bit is a 0 or 1.  We have 12 of them, so we have 2^12 (or 4096) unique combinations to represent brightness in the image.\n",
    "* Most data types on a computer are in multiples of bytes, which have 8 bits. For example, a typical RGB image of a cat face contains three 8-bit channels for red, green and blue values. \n",
    "* LS8 offers a considerable improvement over for the 8-bit dynamic range of Landsat 1-7. Improved signal to noise performance enables improved characterization of land cover state and condition.\n",
    "* We don't have a convenient mechanism to store 12-bit data, so the LS8 images are stored as 16-bit unsigned integers (2^16 possible values, 0-65535)\n",
    "    * The initial values (spanning 0-4095) are scaled across 55000 of the total 65535 brightness levels in the 16-bit images"
   ]
  },
  {
   "cell_type": "markdown",
   "id": "7670e143-4726-49d8-8706-64eae60e1961",
   "metadata": {},
   "source": [
    "### Image Resolution - Ground Sample Distance (GSD)\n",
    "* Panchromatic (PAN) band (band number 8) has 15 m ground sample distance (GSD)\n",
    "* Multispectral (MS) bands are 30 m GSD\n",
    "* Thermal IR are 100 m GSD, but are often oversampled to match MS bands"
   ]
  },
  {
   "cell_type": "markdown",
   "id": "a0057d55-7c85-4410-8d0d-4c7cceb654e5",
   "metadata": {},
   "source": [
    "## Landsat-8 Data Products\n",
    "The standard data products are \"Level 1\" images: they radiometrically corrected and orthorectified (terrain corrected) in the approprate UTM projection: https://www.usgs.gov/core-science-systems/nli/landsat/landsat-level-1-processing-details\n",
    "\n",
    "For more sophisticated analysis, you typically want to use higher-level, calibrated/corrected products (\"level 2\" like surface reflectance values), often considered \"Analysis Ready Data (ARD)\": https://www.usgs.gov/land-resources/nli/landsat/landsat-science-products\n",
    "\n",
    "Information about Digital Number (DN), top of atmosphere (TOA) and surface reflectance (SR): https://www.l3harrisgeospatial.com/Learn/Blogs/Blog-Details/ArtMID/10198/ArticleID/16278/Digital-Number-Radiance-and-Reflectance\n",
    "* Top of Atmosphere reflectance\n",
    "    * Formulas for conversion of DN to TOA: https://www.usgs.gov/landsat-missions/using-usgs-landsat-level-1-data-product\n",
    "* \"Surface reflectance is the amount of light reflected by the surface of the Earth. It is a ratio of surface radiance to surface irradiance, and as such is unitless, with values between 0 and 1.\"\n",
    "    * \"Surface reflectance (SR) improves comparison between multiple images over the same region by accounting for atmospheric effects such as aerosol scattering and thin clouds, which can help in the detection and characterization of Earth surface change. \"\n",
    "    * \"Landsat 8 OLI Collection 1 Surface Reflectance are generated using the Land Surface Reflectance Code (LaSRC) (version 1.4.1), which makes use of the coastal aerosol band to perform aerosol inversion tests, uses auxiliary climate data from MODIS, and uses a unique radiative transfer model.  (Vermote et al., 2016).\""
   ]
  },
  {
   "cell_type": "markdown",
   "id": "edb72ba6-921e-44bd-bcd0-1b330590e1c8",
   "metadata": {},
   "source": [
    "### Path/Row system\n",
    "* https://landsat.gsfc.nasa.gov/the-worldwide-reference-system/\n",
    "* Use descending for daytime imagery\n",
    "* Seattle and Mt. Rainier: path 46, row 27"
   ]
  },
  {
   "cell_type": "markdown",
   "id": "2bc3e202-603d-40b9-a4f3-45a4049d4db3",
   "metadata": {},
   "source": [
    "### LS8 Data availability\n",
    "USGS/NASA hosts the official Landsat products. This option is great for one-off interactive data searches, but can be clunky and requires a lot of manual steps:\n",
    "* https://earthexplorer.usgs.gov/\n",
    "\n",
    "Commercial cloud providers now mirror the entire USGS archive, and provide a much more efficient API (application programming interface) to access the data.  This is especially important when you need to access 100s-1000s of images.\n",
    "\n",
    "Google:\n",
    "* https://cloud.google.com/storage/docs/public-datasets/landsat\n",
    "\n",
    "Amazon Web Services (AWS): \n",
    "* https://docs.opendata.aws/landsat-pds/readme.html\n",
    "* https://registry.opendata.aws/landsat-8/\n",
    "\n",
    "Microsoft Planetary Computer:\n",
    "* https://planetarycomputer.microsoft.com/dataset/group/landsat"
   ]
  },
  {
   "cell_type": "markdown",
   "id": "cc2085bb-b87b-46a1-9951-0cd896a0c218",
   "metadata": {
    "tags": []
   },
   "source": [
    "## Finding cloud-free imagery\n",
    "The process of identifying and downloading data has evolved considerably throughout the Landsat missions, and modern approaches use on-demand access to cloud-hosted archives, often without local downloads.\n",
    "* Interactive, manual approach: use EarthExplorer for visual queries: https://earthexplorer.usgs.gov/\n",
    "    * Get the image ID\n",
    "    * Can also directly download products from EarthExplorer, but pretty inefficient\n",
    "* Automated, programmatic approach: query archives from Python API or command-line, using SpatioTemporal Asset Catalog (STAC): https://landsat.stac.cloud\n",
    "* Other approaches: https://www.usgs.gov/landsat-missions/landsat-data-access\n",
    "* For now, let's use some code to download some pre-identified images for WA state to the hub.  Note that we could do all of this on the fly, but for experimentation and development, having a local copy of sample images will speed up reading."
   ]
  },
  {
   "cell_type": "code",
   "execution_count": 1,
   "id": "8b58dc63-b45f-4851-8169-1248b9ed6486",
   "metadata": {},
   "outputs": [],
   "source": [
    "import os\n",
    "import urllib\n",
    "import rasterio as rio\n",
    "import rasterio.plot\n",
    "import requests"
   ]
  },
  {
   "cell_type": "markdown",
   "id": "bfac18a0-6f34-409d-8a13-360f5fee5314",
   "metadata": {},
   "source": [
    "## Note that we can open an image directly from a url\n",
    "(look Ma, no downloads!)  \n",
    "Let's use the last url from our earlier download as a test"
   ]
  },
  {
   "cell_type": "code",
   "execution_count": 47,
   "id": "b7c58950-8fc7-4927-8103-6ce9b22821ae",
   "metadata": {},
   "outputs": [],
   "source": [
    "image_url = 'https://storage.googleapis.com/gcp-public-data-landsat/LC08/01/046/027/LC08_L1TP_046027_20180818_20180829_01_T1/LC08_L1TP_046027_20180818_20180829_01_T1_B10.TIF'"
   ]
  },
  {
   "cell_type": "code",
   "execution_count": 48,
   "id": "e904292f-7422-4946-931d-615ae9ea5c9d",
   "metadata": {},
   "outputs": [
    {
     "name": "stdout",
     "output_type": "stream",
     "text": [
      "https://storage.googleapis.com/gcp-public-data-landsat/LC08/01/046/027/LC08_L1TP_046027_20180818_20180829_01_T1/LC08_L1TP_046027_20180818_20180829_01_T1_B10.TIF\n"
     ]
    }
   ],
   "source": [
    "print(image_url)"
   ]
  },
  {
   "cell_type": "code",
   "execution_count": 49,
   "id": "3f5d1a52-ca2c-4cfc-ab00-d9f97112222f",
   "metadata": {},
   "outputs": [],
   "source": [
    "src = rio.open(image_url)"
   ]
  },
  {
   "cell_type": "code",
   "execution_count": 50,
   "id": "fbaa8d1b-d209-45b3-9552-05bcd4e7d853",
   "metadata": {},
   "outputs": [
    {
     "data": {
      "text/plain": [
       "{'driver': 'GTiff', 'dtype': 'uint16', 'nodata': None, 'width': 7781, 'height': 7881, 'count': 1, 'crs': CRS.from_epsg(32610), 'transform': Affine(30.0, 0.0, 473385.0,\n",
       "       0.0, -30.0, 5373315.0), 'blockxsize': 256, 'blockysize': 256, 'tiled': True, 'compress': 'lzw', 'interleave': 'band'}"
      ]
     },
     "execution_count": 50,
     "metadata": {},
     "output_type": "execute_result"
    }
   ],
   "source": [
    "src.profile"
   ]
  },
  {
   "cell_type": "code",
   "execution_count": 51,
   "id": "2052844f-8c73-426a-82ab-38b9551fd03a",
   "metadata": {},
   "outputs": [
    {
     "name": "stdout",
     "output_type": "stream",
     "text": [
      "{'driver': 'GTiff', 'dtype': 'uint16', 'nodata': None, 'width': 7781, 'height': 7881, 'count': 1, 'crs': CRS.from_epsg(32610), 'transform': Affine(30.0, 0.0, 473385.0,\n",
      "       0.0, -30.0, 5373315.0), 'blockxsize': 256, 'blockysize': 256, 'tiled': True, 'compress': 'lzw', 'interleave': 'band'}\n"
     ]
    }
   ],
   "source": [
    "with rio.open(image_url) as src:\n",
    "    print(src.profile)"
   ]
  },
  {
   "cell_type": "code",
   "execution_count": 7,
   "id": "ddbd02ac-252d-4046-88ac-b3c5dd85ce63",
   "metadata": {
    "tags": []
   },
   "outputs": [
    {
     "data": {
      "text/plain": [
       "<closed DatasetReader name='https://storage.googleapis.com/gcp-public-data-landsat/LC08/01/046/027/LC08_L1TP_046027_20180818_20180829_01_T1/LC08_L1TP_046027_20180818_20180829_01_T1_B10.TIF' mode='r'>"
      ]
     },
     "execution_count": 7,
     "metadata": {},
     "output_type": "execute_result"
    }
   ],
   "source": [
    "#Note that the dataset does not remain open!\n",
    "src"
   ]
  },
  {
   "cell_type": "code",
   "execution_count": 8,
   "id": "40a6cb1f-08d7-430b-bd40-91f21d8231da",
   "metadata": {},
   "outputs": [
    {
     "data": {
      "image/png": "[encoded data removed]",
      "text/plain": [
       "<Figure size 640x480 with 1 Axes>"
      ]
     },
     "metadata": {},
     "output_type": "display_data"
    }
   ],
   "source": [
    "with rio.open(image_url) as src:\n",
    "    rio.plot.show(src)"
   ]
  },
  {
   "cell_type": "markdown",
   "id": "676e7c1e-87a0-47bb-b06f-b3180e0083f1",
   "metadata": {},
   "source": [
    "## Download Collection 2 (L2) products for Surface Reflectance and Surface Temperature"
   ]
  },
  {
   "cell_type": "code",
   "execution_count": 9,
   "id": "8f312464-00c5-4005-9086-f6cf4fac43b9",
   "metadata": {},
   "outputs": [],
   "source": [
    "#Create local directory to store images\n",
    "imgdir = 'LS8_sample'\n",
    "if not os.path.exists(imgdir):\n",
    "    os.makedirs(imgdir)"
   ]
  },
  {
   "cell_type": "code",
   "execution_count": 10,
   "id": "1788d6c3-6906-4034-ac7e-a458ddf3d996",
   "metadata": {},
   "outputs": [],
   "source": [
    "#Subset of relevant assets available for L2 surface reflectance products\n",
    "asset_id_list = ['SR_B1', 'SR_B2', 'SR_B3', 'SR_B4', 'SR_B5', 'SR_B6', 'SR_B7', 'ST_B10', 'reduced_resolution_browse']"
   ]
  },
  {
   "cell_type": "markdown",
   "id": "744ecc16-e2ea-4319-84d5-a42d2f4e4976",
   "metadata": {},
   "source": [
    "### Download assets for specific images\n",
    "* Construct url using known information\n",
    "* Using Microsoft Planetary Computer archive of Collection 2 Level 2 images\n",
    "* Need to obtain token to \"sign\" urls - often some kind of credentials required for access"
   ]
  },
  {
   "cell_type": "code",
   "execution_count": 11,
   "id": "18c6ead9-bfca-4e86-8f3b-c6c2d48e8cfc",
   "metadata": {},
   "outputs": [],
   "source": [
    "#Using Planetary Computer\n",
    "collection = 'landsat-8-c2-l2'\n",
    "base_url = 'https://landsateuwest.blob.core.windows.net/landsat-c2/level-2/standard/oli-tirs'\n",
    "year = 2018\n",
    "path = 46\n",
    "row = 27\n",
    "img_list = ['LC08_L2SP_046027_20180818_20200831_02_T1', \\\n",
    "            'LC08_L2SP_046027_20181224_20200829_02_T1']"
   ]
  },
  {
   "cell_type": "markdown",
   "id": "d0d14496-30f3-4bbb-950b-4bff5f1599dd",
   "metadata": {},
   "source": [
    "Notes on LS filenames: \n",
    "* https://www.usgs.gov/faqs/what-naming-convention-landsat-collections-level-1-scenes\n",
    "* https://gisgeography.com/landsat-file-naming-convention/"
   ]
  },
  {
   "cell_type": "code",
   "execution_count": 12,
   "id": "7562a300-c474-4cdd-ab7c-4d93ee09c2e2",
   "metadata": {},
   "outputs": [],
   "source": [
    "# Get a token for signed url preparation\n",
    "resp = requests.get(f'https://planetarycomputer.microsoft.com/api/sas/v1/token/{collection}')\n",
    "token = resp.json()['token']"
   ]
  },
  {
   "cell_type": "code",
   "execution_count": 13,
   "id": "1561eda1-7e6f-4449-b627-0cd15be1f499",
   "metadata": {},
   "outputs": [
    {
     "name": "stdout",
     "output_type": "stream",
     "text": [
      "https://landsateuwest.blob.core.windows.net/landsat-c2/level-2/standard/oli-tirs/2018/046/027/LC08_L2SP_046027_20180818_20200831_02_T1/LC08_L2SP_046027_20180818_20200831_02_T1_SR_B1.TIF?st=2023-03-06T02%3A24%3A57Z&se=2023-03-07T03%3A09%3A57Z&sp=rl&sv=2021-06-08&sr=c&skoid=c85c15d6-d1ae-42d4-af60-e2ca0f81359b&sktid=72f988bf-86f1-41af-91ab-2d7cd011db47&skt=2023-03-06T22%3A44%3A45Z&ske=2023-03-13T22%3A44%3A45Z&sks=b&skv=2021-06-08&sig=jQjGKm5zLFPJ21L/%2BabNylq/QmuVgKehMgmwnyRO%2BIo%3D\n",
      "Saving: LS8_sample/LC08_L2SP_046027_20180818_20200831_02_T1_SR_B1.TIF\n",
      "https://landsateuwest.blob.core.windows.net/landsat-c2/level-2/standard/oli-tirs/2018/046/027/LC08_L2SP_046027_20180818_20200831_02_T1/LC08_L2SP_046027_20180818_20200831_02_T1_SR_B2.TIF?st=2023-03-06T02%3A24%3A57Z&se=2023-03-07T03%3A09%3A57Z&sp=rl&sv=2021-06-08&sr=c&skoid=c85c15d6-d1ae-42d4-af60-e2ca0f81359b&sktid=72f988bf-86f1-41af-91ab-2d7cd011db47&skt=2023-03-06T22%3A44%3A45Z&ske=2023-03-13T22%3A44%3A45Z&sks=b&skv=2021-06-08&sig=jQjGKm5zLFPJ21L/%2BabNylq/QmuVgKehMgmwnyRO%2BIo%3D\n",
      "Saving: LS8_sample/LC08_L2SP_046027_20180818_20200831_02_T1_SR_B2.TIF\n",
      "https://landsateuwest.blob.core.windows.net/landsat-c2/level-2/standard/oli-tirs/2018/046/027/LC08_L2SP_046027_20180818_20200831_02_T1/LC08_L2SP_046027_20180818_20200831_02_T1_SR_B3.TIF?st=2023-03-06T02%3A24%3A57Z&se=2023-03-07T03%3A09%3A57Z&sp=rl&sv=2021-06-08&sr=c&skoid=c85c15d6-d1ae-42d4-af60-e2ca0f81359b&sktid=72f988bf-86f1-41af-91ab-2d7cd011db47&skt=2023-03-06T22%3A44%3A45Z&ske=2023-03-13T22%3A44%3A45Z&sks=b&skv=2021-06-08&sig=jQjGKm5zLFPJ21L/%2BabNylq/QmuVgKehMgmwnyRO%2BIo%3D\n",
      "Saving: LS8_sample/LC08_L2SP_046027_20180818_20200831_02_T1_SR_B3.TIF\n",
      "https://landsateuwest.blob.core.windows.net/landsat-c2/level-2/standard/oli-tirs/2018/046/027/LC08_L2SP_046027_20180818_20200831_02_T1/LC08_L2SP_046027_20180818_20200831_02_T1_SR_B4.TIF?st=2023-03-06T02%3A24%3A57Z&se=2023-03-07T03%3A09%3A57Z&sp=rl&sv=2021-06-08&sr=c&skoid=c85c15d6-d1ae-42d4-af60-e2ca0f81359b&sktid=72f988bf-86f1-41af-91ab-2d7cd011db47&skt=2023-03-06T22%3A44%3A45Z&ske=2023-03-13T22%3A44%3A45Z&sks=b&skv=2021-06-08&sig=jQjGKm5zLFPJ21L/%2BabNylq/QmuVgKehMgmwnyRO%2BIo%3D\n",
      "Saving: LS8_sample/LC08_L2SP_046027_20180818_20200831_02_T1_SR_B4.TIF\n",
      "https://landsateuwest.blob.core.windows.net/landsat-c2/level-2/standard/oli-tirs/2018/046/027/LC08_L2SP_046027_20180818_20200831_02_T1/LC08_L2SP_046027_20180818_20200831_02_T1_SR_B5.TIF?st=2023-03-06T02%3A24%3A57Z&se=2023-03-07T03%3A09%3A57Z&sp=rl&sv=2021-06-08&sr=c&skoid=c85c15d6-d1ae-42d4-af60-e2ca0f81359b&sktid=72f988bf-86f1-41af-91ab-2d7cd011db47&skt=2023-03-06T22%3A44%3A45Z&ske=2023-03-13T22%3A44%3A45Z&sks=b&skv=2021-06-08&sig=jQjGKm5zLFPJ21L/%2BabNylq/QmuVgKehMgmwnyRO%2BIo%3D\n",
      "Saving: LS8_sample/LC08_L2SP_046027_20180818_20200831_02_T1_SR_B5.TIF\n",
      "https://landsateuwest.blob.core.windows.net/landsat-c2/level-2/standard/oli-tirs/2018/046/027/LC08_L2SP_046027_20180818_20200831_02_T1/LC08_L2SP_046027_20180818_20200831_02_T1_SR_B6.TIF?st=2023-03-06T02%3A24%3A57Z&se=2023-03-07T03%3A09%3A57Z&sp=rl&sv=2021-06-08&sr=c&skoid=c85c15d6-d1ae-42d4-af60-e2ca0f81359b&sktid=72f988bf-86f1-41af-91ab-2d7cd011db47&skt=2023-03-06T22%3A44%3A45Z&ske=2023-03-13T22%3A44%3A45Z&sks=b&skv=2021-06-08&sig=jQjGKm5zLFPJ21L/%2BabNylq/QmuVgKehMgmwnyRO%2BIo%3D\n",
      "Saving: LS8_sample/LC08_L2SP_046027_20180818_20200831_02_T1_SR_B6.TIF\n",
      "https://landsateuwest.blob.core.windows.net/landsat-c2/level-2/standard/oli-tirs/2018/046/027/LC08_L2SP_046027_20180818_20200831_02_T1/LC08_L2SP_046027_20180818_20200831_02_T1_SR_B7.TIF?st=2023-03-06T02%3A24%3A57Z&se=2023-03-07T03%3A09%3A57Z&sp=rl&sv=2021-06-08&sr=c&skoid=c85c15d6-d1ae-42d4-af60-e2ca0f81359b&sktid=72f988bf-86f1-41af-91ab-2d7cd011db47&skt=2023-03-06T22%3A44%3A45Z&ske=2023-03-13T22%3A44%3A45Z&sks=b&skv=2021-06-08&sig=jQjGKm5zLFPJ21L/%2BabNylq/QmuVgKehMgmwnyRO%2BIo%3D\n",
      "Saving: LS8_sample/LC08_L2SP_046027_20180818_20200831_02_T1_SR_B7.TIF\n",
      "https://landsateuwest.blob.core.windows.net/landsat-c2/level-2/standard/oli-tirs/2018/046/027/LC08_L2SP_046027_20180818_20200831_02_T1/LC08_L2SP_046027_20180818_20200831_02_T1_ST_B10.TIF?st=2023-03-06T02%3A24%3A57Z&se=2023-03-07T03%3A09%3A57Z&sp=rl&sv=2021-06-08&sr=c&skoid=c85c15d6-d1ae-42d4-af60-e2ca0f81359b&sktid=72f988bf-86f1-41af-91ab-2d7cd011db47&skt=2023-03-06T22%3A44%3A45Z&ske=2023-03-13T22%3A44%3A45Z&sks=b&skv=2021-06-08&sig=jQjGKm5zLFPJ21L/%2BabNylq/QmuVgKehMgmwnyRO%2BIo%3D\n",
      "Saving: LS8_sample/LC08_L2SP_046027_20180818_20200831_02_T1_ST_B10.TIF\n",
      "https://landsateuwest.blob.core.windows.net/landsat-c2/level-2/standard/oli-tirs/2018/046/027/LC08_L2SP_046027_20180818_20200831_02_T1/LC08_L2SP_046027_20180818_20200831_02_T1_thumb_large.jpeg?st=2023-03-06T02%3A24%3A57Z&se=2023-03-07T03%3A09%3A57Z&sp=rl&sv=2021-06-08&sr=c&skoid=c85c15d6-d1ae-42d4-af60-e2ca0f81359b&sktid=72f988bf-86f1-41af-91ab-2d7cd011db47&skt=2023-03-06T22%3A44%3A45Z&ske=2023-03-13T22%3A44%3A45Z&sks=b&skv=2021-06-08&sig=jQjGKm5zLFPJ21L/%2BabNylq/QmuVgKehMgmwnyRO%2BIo%3D\n",
      "Saving: LS8_sample/LC08_L2SP_046027_20180818_20200831_02_T1_thumb_large.jpeg\n",
      "https://landsateuwest.blob.core.windows.net/landsat-c2/level-2/standard/oli-tirs/2018/046/027/LC08_L2SP_046027_20181224_20200829_02_T1/LC08_L2SP_046027_20181224_20200829_02_T1_SR_B1.TIF?st=2023-03-06T02%3A24%3A57Z&se=2023-03-07T03%3A09%3A57Z&sp=rl&sv=2021-06-08&sr=c&skoid=c85c15d6-d1ae-42d4-af60-e2ca0f81359b&sktid=72f988bf-86f1-41af-91ab-2d7cd011db47&skt=2023-03-06T22%3A44%3A45Z&ske=2023-03-13T22%3A44%3A45Z&sks=b&skv=2021-06-08&sig=jQjGKm5zLFPJ21L/%2BabNylq/QmuVgKehMgmwnyRO%2BIo%3D\n",
      "Saving: LS8_sample/LC08_L2SP_046027_20181224_20200829_02_T1_SR_B1.TIF\n",
      "https://landsateuwest.blob.core.windows.net/landsat-c2/level-2/standard/oli-tirs/2018/046/027/LC08_L2SP_046027_20181224_20200829_02_T1/LC08_L2SP_046027_20181224_20200829_02_T1_SR_B2.TIF?st=2023-03-06T02%3A24%3A57Z&se=2023-03-07T03%3A09%3A57Z&sp=rl&sv=2021-06-08&sr=c&skoid=c85c15d6-d1ae-42d4-af60-e2ca0f81359b&sktid=72f988bf-86f1-41af-91ab-2d7cd011db47&skt=2023-03-06T22%3A44%3A45Z&ske=2023-03-13T22%3A44%3A45Z&sks=b&skv=2021-06-08&sig=jQjGKm5zLFPJ21L/%2BabNylq/QmuVgKehMgmwnyRO%2BIo%3D\n",
      "Saving: LS8_sample/LC08_L2SP_046027_20181224_20200829_02_T1_SR_B2.TIF\n",
      "https://landsateuwest.blob.core.windows.net/landsat-c2/level-2/standard/oli-tirs/2018/046/027/LC08_L2SP_046027_20181224_20200829_02_T1/LC08_L2SP_046027_20181224_20200829_02_T1_SR_B3.TIF?st=2023-03-06T02%3A24%3A57Z&se=2023-03-07T03%3A09%3A57Z&sp=rl&sv=2021-06-08&sr=c&skoid=c85c15d6-d1ae-42d4-af60-e2ca0f81359b&sktid=72f988bf-86f1-41af-91ab-2d7cd011db47&skt=2023-03-06T22%3A44%3A45Z&ske=2023-03-13T22%3A44%3A45Z&sks=b&skv=2021-06-08&sig=jQjGKm5zLFPJ21L/%2BabNylq/QmuVgKehMgmwnyRO%2BIo%3D\n",
      "Saving: LS8_sample/LC08_L2SP_046027_20181224_20200829_02_T1_SR_B3.TIF\n",
      "https://landsateuwest.blob.core.windows.net/landsat-c2/level-2/standard/oli-tirs/2018/046/027/LC08_L2SP_046027_20181224_20200829_02_T1/LC08_L2SP_046027_20181224_20200829_02_T1_SR_B4.TIF?st=2023-03-06T02%3A24%3A57Z&se=2023-03-07T03%3A09%3A57Z&sp=rl&sv=2021-06-08&sr=c&skoid=c85c15d6-d1ae-42d4-af60-e2ca0f81359b&sktid=72f988bf-86f1-41af-91ab-2d7cd011db47&skt=2023-03-06T22%3A44%3A45Z&ske=2023-03-13T22%3A44%3A45Z&sks=b&skv=2021-06-08&sig=jQjGKm5zLFPJ21L/%2BabNylq/QmuVgKehMgmwnyRO%2BIo%3D\n",
      "Saving: LS8_sample/LC08_L2SP_046027_20181224_20200829_02_T1_SR_B4.TIF\n",
      "https://landsateuwest.blob.core.windows.net/landsat-c2/level-2/standard/oli-tirs/2018/046/027/LC08_L2SP_046027_20181224_20200829_02_T1/LC08_L2SP_046027_20181224_20200829_02_T1_SR_B5.TIF?st=2023-03-06T02%3A24%3A57Z&se=2023-03-07T03%3A09%3A57Z&sp=rl&sv=2021-06-08&sr=c&skoid=c85c15d6-d1ae-42d4-af60-e2ca0f81359b&sktid=72f988bf-86f1-41af-91ab-2d7cd011db47&skt=2023-03-06T22%3A44%3A45Z&ske=2023-03-13T22%3A44%3A45Z&sks=b&skv=2021-06-08&sig=jQjGKm5zLFPJ21L/%2BabNylq/QmuVgKehMgmwnyRO%2BIo%3D\n",
      "Saving: LS8_sample/LC08_L2SP_046027_20181224_20200829_02_T1_SR_B5.TIF\n",
      "https://landsateuwest.blob.core.windows.net/landsat-c2/level-2/standard/oli-tirs/2018/046/027/LC08_L2SP_046027_20181224_20200829_02_T1/LC08_L2SP_046027_20181224_20200829_02_T1_SR_B6.TIF?st=2023-03-06T02%3A24%3A57Z&se=2023-03-07T03%3A09%3A57Z&sp=rl&sv=2021-06-08&sr=c&skoid=c85c15d6-d1ae-42d4-af60-e2ca0f81359b&sktid=72f988bf-86f1-41af-91ab-2d7cd011db47&skt=2023-03-06T22%3A44%3A45Z&ske=2023-03-13T22%3A44%3A45Z&sks=b&skv=2021-06-08&sig=jQjGKm5zLFPJ21L/%2BabNylq/QmuVgKehMgmwnyRO%2BIo%3D\n",
      "Saving: LS8_sample/LC08_L2SP_046027_20181224_20200829_02_T1_SR_B6.TIF\n",
      "https://landsateuwest.blob.core.windows.net/landsat-c2/level-2/standard/oli-tirs/2018/046/027/LC08_L2SP_046027_20181224_20200829_02_T1/LC08_L2SP_046027_20181224_20200829_02_T1_SR_B7.TIF?st=2023-03-06T02%3A24%3A57Z&se=2023-03-07T03%3A09%3A57Z&sp=rl&sv=2021-06-08&sr=c&skoid=c85c15d6-d1ae-42d4-af60-e2ca0f81359b&sktid=72f988bf-86f1-41af-91ab-2d7cd011db47&skt=2023-03-06T22%3A44%3A45Z&ske=2023-03-13T22%3A44%3A45Z&sks=b&skv=2021-06-08&sig=jQjGKm5zLFPJ21L/%2BabNylq/QmuVgKehMgmwnyRO%2BIo%3D\n",
      "Saving: LS8_sample/LC08_L2SP_046027_20181224_20200829_02_T1_SR_B7.TIF\n",
      "https://landsateuwest.blob.core.windows.net/landsat-c2/level-2/standard/oli-tirs/2018/046/027/LC08_L2SP_046027_20181224_20200829_02_T1/LC08_L2SP_046027_20181224_20200829_02_T1_ST_B10.TIF?st=2023-03-06T02%3A24%3A57Z&se=2023-03-07T03%3A09%3A57Z&sp=rl&sv=2021-06-08&sr=c&skoid=c85c15d6-d1ae-42d4-af60-e2ca0f81359b&sktid=72f988bf-86f1-41af-91ab-2d7cd011db47&skt=2023-03-06T22%3A44%3A45Z&ske=2023-03-13T22%3A44%3A45Z&sks=b&skv=2021-06-08&sig=jQjGKm5zLFPJ21L/%2BabNylq/QmuVgKehMgmwnyRO%2BIo%3D\n",
      "Saving: LS8_sample/LC08_L2SP_046027_20181224_20200829_02_T1_ST_B10.TIF\n",
      "https://landsateuwest.blob.core.windows.net/landsat-c2/level-2/standard/oli-tirs/2018/046/027/LC08_L2SP_046027_20181224_20200829_02_T1/LC08_L2SP_046027_20181224_20200829_02_T1_thumb_large.jpeg?st=2023-03-06T02%3A24%3A57Z&se=2023-03-07T03%3A09%3A57Z&sp=rl&sv=2021-06-08&sr=c&skoid=c85c15d6-d1ae-42d4-af60-e2ca0f81359b&sktid=72f988bf-86f1-41af-91ab-2d7cd011db47&skt=2023-03-06T22%3A44%3A45Z&ske=2023-03-13T22%3A44%3A45Z&sks=b&skv=2021-06-08&sig=jQjGKm5zLFPJ21L/%2BabNylq/QmuVgKehMgmwnyRO%2BIo%3D\n",
      "Saving: LS8_sample/LC08_L2SP_046027_20181224_20200829_02_T1_thumb_large.jpeg\n"
     ]
    }
   ],
   "source": [
    "#Loop through all selected images and all bands\n",
    "for img in img_list:\n",
    "    for asset_id in asset_id_list:\n",
    "        #Generate the appropriate URL for the images we identified\n",
    "        if asset_id == 'reduced_resolution_browse':\n",
    "            image_url =  f'{base_url}/{year}/{path:03d}/{row:03d}/{img}/{img}_thumb_large.jpeg'\n",
    "        else:\n",
    "            image_url =  f'{base_url}/{year}/{path:03d}/{row:03d}/{img}/{img}_{asset_id}.TIF'\n",
    "        print(f'{image_url}?{token}')\n",
    "        #Local filename\n",
    "        out_fn = os.path.join(imgdir, os.path.split(image_url)[-1])\n",
    "        #Check to see if file already exists\n",
    "        if not os.path.exists(out_fn):\n",
    "            #signed_asset = pc.sign_asset(pystac.asset.Asset(image_url))\n",
    "            print(\"Saving:\", out_fn)\n",
    "            #Download the file\n",
    "            urllib.request.urlretrieve(f'{image_url}?{token}', out_fn)"
   ]
  },
  {
   "cell_type": "markdown",
   "id": "51480bbf-1068-4bbb-94c5-c356bd8e75f1",
   "metadata": {},
   "source": [
    "## Do a quick `ls -lh` on the local image directory\n",
    "* Note relative file sizes for the different bands of each image\n",
    "    * B8 vs B3 vs. B10\n",
    "    * Revisit the chart above - does this make sense for resolution of these bands?"
   ]
  },
  {
   "cell_type": "code",
   "execution_count": 14,
   "id": "fa060c2a-0cfd-4549-9141-8e5f8c23cbb0",
   "metadata": {},
   "outputs": [
    {
     "name": "stdout",
     "output_type": "stream",
     "text": [
      "total 1.4G\n",
      "-rw-r--r-- 1 jovyan users  81M Mar  7 02:25 LC08_L2SP_046027_20180818_20200831_02_T1_SR_B1.TIF\n",
      "-rw-r--r-- 1 jovyan users  81M Mar  7 02:25 LC08_L2SP_046027_20180818_20200831_02_T1_SR_B2.TIF\n",
      "-rw-r--r-- 1 jovyan users  82M Mar  7 02:25 LC08_L2SP_046027_20180818_20200831_02_T1_SR_B3.TIF\n",
      "-rw-r--r-- 1 jovyan users  83M Mar  7 02:25 LC08_L2SP_046027_20180818_20200831_02_T1_SR_B4.TIF\n",
      "-rw-r--r-- 1 jovyan users  92M Mar  7 02:26 LC08_L2SP_046027_20180818_20200831_02_T1_SR_B5.TIF\n",
      "-rw-r--r-- 1 jovyan users  90M Mar  7 02:26 LC08_L2SP_046027_20180818_20200831_02_T1_SR_B6.TIF\n",
      "-rw-r--r-- 1 jovyan users  86M Mar  7 02:26 LC08_L2SP_046027_20180818_20200831_02_T1_SR_B7.TIF\n",
      "-rw-r--r-- 1 jovyan users  84M Mar  7 02:26 LC08_L2SP_046027_20180818_20200831_02_T1_ST_B10.TIF\n",
      "-rw-r--r-- 1 jovyan users  89K Mar  7 02:26 LC08_L2SP_046027_20180818_20200831_02_T1_thumb_large.jpeg\n",
      "-rw-r--r-- 1 jovyan users  91M Mar  7 02:27 LC08_L2SP_046027_20181224_20200829_02_T1_SR_B1.TIF\n",
      "-rw-r--r-- 1 jovyan users  91M Mar  7 02:27 LC08_L2SP_046027_20181224_20200829_02_T1_SR_B2.TIF\n",
      "-rw-r--r-- 1 jovyan users  92M Mar  7 02:27 LC08_L2SP_046027_20181224_20200829_02_T1_SR_B3.TIF\n",
      "-rw-r--r-- 1 jovyan users  91M Mar  7 02:28 LC08_L2SP_046027_20181224_20200829_02_T1_SR_B4.TIF\n",
      "-rw-r--r-- 1 jovyan users  96M Mar  7 02:28 LC08_L2SP_046027_20181224_20200829_02_T1_SR_B5.TIF\n",
      "-rw-r--r-- 1 jovyan users  90M Mar  7 02:28 LC08_L2SP_046027_20181224_20200829_02_T1_SR_B6.TIF\n",
      "-rw-r--r-- 1 jovyan users  87M Mar  7 02:28 LC08_L2SP_046027_20181224_20200829_02_T1_SR_B7.TIF\n",
      "-rw-r--r-- 1 jovyan users  77M Mar  7 02:29 LC08_L2SP_046027_20181224_20200829_02_T1_ST_B10.TIF\n",
      "-rw-r--r-- 1 jovyan users 155K Mar  7 02:29 LC08_L2SP_046027_20181224_20200829_02_T1_thumb_large.jpeg\n"
     ]
    }
   ],
   "source": [
    "!ls -lh $imgdir"
   ]
  },
  {
   "cell_type": "markdown",
   "id": "63905f8c-e9c1-4812-9a5d-2c039a544412",
   "metadata": {},
   "source": [
    "## Use `gdalinfo` command to get some basic information about one of the files\n",
    "* Review output with your neighbor/group\n",
    "    * 🤔 Talk about what each line means, if there is something you don't understand, ask!  Or look it up together!"
   ]
  },
  {
   "cell_type": "code",
   "execution_count": 15,
   "id": "c9b9565a-f3de-451b-973e-ce8f4261b515",
   "metadata": {},
   "outputs": [
    {
     "name": "stdout",
     "output_type": "stream",
     "text": [
      "LS8_sample/LC08_L2SP_046027_20181224_20200829_02_T1_ST_B10.TIF\n"
     ]
    }
   ],
   "source": [
    "sample_fn = os.path.join(imgdir, img+'_ST_B10.TIF')\n",
    "print(sample_fn)"
   ]
  },
  {
   "cell_type": "code",
   "execution_count": 16,
   "id": "76cda9fb-4402-4057-a197-228a61738616",
   "metadata": {},
   "outputs": [
    {
     "name": "stdout",
     "output_type": "stream",
     "text": [
      "Driver: GTiff/GeoTIFF\n",
      "Files: LS8_sample/LC08_L2SP_046027_20181224_20200829_02_T1_ST_B10.TIF\n",
      "Size is 7771, 7881\n",
      "Coordinate System is:\n",
      "PROJCRS[\"WGS 84 / UTM zone 10N\",\n",
      "    BASEGEOGCRS[\"WGS 84\",\n",
      "        DATUM[\"World Geodetic System 1984\",\n",
      "            ELLIPSOID[\"WGS 84\",6378137,298.257223563,\n",
      "                LENGTHUNIT[\"metre\",1]]],\n",
      "        PRIMEM[\"Greenwich\",0,\n",
      "            ANGLEUNIT[\"degree\",0.0174532925199433]],\n",
      "        ID[\"EPSG\",4326]],\n",
      "    CONVERSION[\"UTM zone 10N\",\n",
      "        METHOD[\"Transverse Mercator\",\n",
      "            ID[\"EPSG\",9807]],\n",
      "        PARAMETER[\"Latitude of natural origin\",0,\n",
      "            ANGLEUNIT[\"degree\",0.0174532925199433],\n",
      "            ID[\"EPSG\",8801]],\n",
      "        PARAMETER[\"Longitude of natural origin\",-123,\n",
      "            ANGLEUNIT[\"degree\",0.0174532925199433],\n",
      "            ID[\"EPSG\",8802]],\n",
      "        PARAMETER[\"Scale factor at natural origin\",0.9996,\n",
      "            SCALEUNIT[\"unity\",1],\n",
      "            ID[\"EPSG\",8805]],\n",
      "        PARAMETER[\"False easting\",500000,\n",
      "            LENGTHUNIT[\"metre\",1],\n",
      "            ID[\"EPSG\",8806]],\n",
      "        PARAMETER[\"False northing\",0,\n",
      "            LENGTHUNIT[\"metre\",1],\n",
      "            ID[\"EPSG\",8807]]],\n",
      "    CS[Cartesian,2],\n",
      "        AXIS[\"(E)\",east,\n",
      "            ORDER[1],\n",
      "            LENGTHUNIT[\"metre\",1]],\n",
      "        AXIS[\"(N)\",north,\n",
      "            ORDER[2],\n",
      "            LENGTHUNIT[\"metre\",1]],\n",
      "    USAGE[\n",
      "        SCOPE[\"Engineering survey, topographic mapping.\"],\n",
      "        AREA[\"Between 126°W and 120°W, northern hemisphere between equator and 84°N, onshore and offshore. Canada - British Columbia (BC); Northwest Territories (NWT); Nunavut; Yukon. United States (USA) - Alaska (AK).\"],\n",
      "        BBOX[0,-126,84,-120]],\n",
      "    ID[\"EPSG\",32610]]\n",
      "Data axis to CRS axis mapping: 1,2\n",
      "Origin = (472785.000000000000000,5373315.000000000000000)\n",
      "Pixel Size = (30.000000000000000,-30.000000000000000)\n",
      "Metadata:\n",
      "  AREA_OR_POINT=Point\n",
      "Image Structure Metadata:\n",
      "  COMPRESSION=DEFLATE\n",
      "  INTERLEAVE=BAND\n",
      "Corner Coordinates:\n",
      "Upper Left  (  472785.000, 5373315.000) (123d22' 6.59\"W, 48d30'44.50\"N)\n",
      "Lower Left  (  472785.000, 5136885.000) (123d21'14.15\"W, 46d23' 5.97\"N)\n",
      "Upper Right (  705915.000, 5373315.000) (120d12'48.76\"W, 48d28'45.16\"N)\n",
      "Lower Right (  705915.000, 5136885.000) (120d19'24.73\"W, 46d21'15.14\"N)\n",
      "Center      (  589350.000, 5255100.000) (121d48'53.62\"W, 47d26'35.59\"N)\n",
      "Band 1 Block=256x256 Type=UInt16, ColorInterp=Gray\n",
      "  NoData Value=0\n",
      "  Overviews: 3886x3941, 1943x1971, 972x986, 486x493, 243x247, 122x124\n"
     ]
    }
   ],
   "source": [
    "!gdalinfo $sample_fn"
   ]
  },
  {
   "cell_type": "code",
   "execution_count": 17,
   "id": "59340eaa-c702-4c4d-a3cd-eee17041333b",
   "metadata": {},
   "outputs": [
    {
     "name": "stdout",
     "output_type": "stream",
     "text": [
      "Driver: GTiff/GeoTIFF\n",
      "Files: LS8_sample/LC08_L2SP_046027_20181224_20200829_02_T1_ST_B10.TIF\n",
      "Size is 7771, 7881\n",
      "Coordinate System is:\n",
      "PROJCRS[\"WGS 84 / UTM zone 10N\",\n",
      "    BASEGEOGCRS[\"WGS 84\",\n",
      "        DATUM[\"World Geodetic System 1984\",\n",
      "            ELLIPSOID[\"WGS 84\",6378137,298.257223563,\n",
      "                LENGTHUNIT[\"metre\",1]]],\n",
      "        PRIMEM[\"Greenwich\",0,\n",
      "            ANGLEUNIT[\"degree\",0.0174532925199433]],\n",
      "        ID[\"EPSG\",4326]],\n",
      "    CONVERSION[\"UTM zone 10N\",\n",
      "        METHOD[\"Transverse Mercator\",\n",
      "            ID[\"EPSG\",9807]],\n",
      "        PARAMETER[\"Latitude of natural origin\",0,\n",
      "            ANGLEUNIT[\"degree\",0.0174532925199433],\n",
      "            ID[\"EPSG\",8801]],\n",
      "        PARAMETER[\"Longitude of natural origin\",-123,\n",
      "            ANGLEUNIT[\"degree\",0.0174532925199433],\n",
      "            ID[\"EPSG\",8802]],\n",
      "        PARAMETER[\"Scale factor at natural origin\",0.9996,\n",
      "            SCALEUNIT[\"unity\",1],\n",
      "            ID[\"EPSG\",8805]],\n",
      "        PARAMETER[\"False easting\",500000,\n",
      "            LENGTHUNIT[\"metre\",1],\n",
      "            ID[\"EPSG\",8806]],\n",
      "        PARAMETER[\"False northing\",0,\n",
      "            LENGTHUNIT[\"metre\",1],\n",
      "            ID[\"EPSG\",8807]]],\n",
      "    CS[Cartesian,2],\n",
      "        AXIS[\"(E)\",east,\n",
      "            ORDER[1],\n",
      "            LENGTHUNIT[\"metre\",1]],\n",
      "        AXIS[\"(N)\",north,\n",
      "            ORDER[2],\n",
      "            LENGTHUNIT[\"metre\",1]],\n",
      "    USAGE[\n",
      "        SCOPE[\"Engineering survey, topographic mapping.\"],\n",
      "        AREA[\"Between 126°W and 120°W, northern hemisphere between equator and 84°N, onshore and offshore. Canada - British Columbia (BC); Northwest Territories (NWT); Nunavut; Yukon. United States (USA) - Alaska (AK).\"],\n",
      "        BBOX[0,-126,84,-120]],\n",
      "    ID[\"EPSG\",32610]]\n",
      "Data axis to CRS axis mapping: 1,2\n",
      "Origin = (472785.000000000000000,5373315.000000000000000)\n",
      "Pixel Size = (30.000000000000000,-30.000000000000000)\n",
      "Metadata:\n",
      "  AREA_OR_POINT=Point\n",
      "Image Structure Metadata:\n",
      "  COMPRESSION=DEFLATE\n",
      "  INTERLEAVE=BAND\n",
      "Corner Coordinates:\n",
      "Upper Left  (  472785.000, 5373315.000) (123d22' 6.59\"W, 48d30'44.50\"N)\n",
      "Lower Left  (  472785.000, 5136885.000) (123d21'14.15\"W, 46d23' 5.97\"N)\n",
      "Upper Right (  705915.000, 5373315.000) (120d12'48.76\"W, 48d28'45.16\"N)\n",
      "Lower Right (  705915.000, 5136885.000) (120d19'24.73\"W, 46d21'15.14\"N)\n",
      "Center      (  589350.000, 5255100.000) (121d48'53.62\"W, 47d26'35.59\"N)\n",
      "Band 1 Block=256x256 Type=UInt16, ColorInterp=Gray\n",
      "  Minimum=23752.000, Maximum=42219.000, Mean=35708.987, StdDev=2100.959\n",
      "  NoData Value=0\n",
      "  Overviews: 3886x3941, 1943x1971, 972x986, 486x493, 243x247, 122x124\n",
      "  Metadata:\n",
      "    STATISTICS_MAXIMUM=42219\n",
      "    STATISTICS_MEAN=35708.986610756\n",
      "    STATISTICS_MINIMUM=23752\n",
      "    STATISTICS_STDDEV=2100.9585113563\n",
      "    STATISTICS_VALID_PERCENT=66.34\n"
     ]
    }
   ],
   "source": [
    "!gdalinfo $sample_fn -stats"
   ]
  },
  {
   "cell_type": "markdown",
   "id": "be86c1ac-4ca7-458c-8af0-9e9771f9fcef",
   "metadata": {},
   "source": [
    "## Other examples"
   ]
  },
  {
   "cell_type": "markdown",
   "id": "d00e4032-caf2-4e30-bf76-5e09a4590051",
   "metadata": {},
   "source": [
    "### Catalog search with STAC\n",
    "* This should be used when you don't know image IDs up front\n",
    "* Can search with spatial and temporal limits\n",
    "* Set cell type as raw for now, since we know Image IDs"
   ]
  },
  {
   "cell_type": "code",
   "execution_count": 18,
   "id": "3b8e498e-4558-4bb0-ad7c-1ce8ba683525",
   "metadata": {},
   "outputs": [
    {
     "name": "stdout",
     "output_type": "stream",
     "text": [
      "\n",
      "                  __    __    __    __\n",
      "                 /  \\  /  \\  /  \\  /  \\\n",
      "                /    \\/    \\/    \\/    \\\n",
      "███████████████/  /██/  /██/  /██/  /████████████████████████\n",
      "              /  / \\   / \\   / \\   / \\  \\____\n",
      "             /  /   \\_/   \\_/   \\_/   \\    o \\__,\n",
      "            / _/                       \\_____/  `\n",
      "            |/\n",
      "        ███╗   ███╗ █████╗ ███╗   ███╗██████╗  █████╗\n",
      "        ████╗ ████║██╔══██╗████╗ ████║██╔══██╗██╔══██╗\n",
      "        ██╔████╔██║███████║██╔████╔██║██████╔╝███████║\n",
      "        ██║╚██╔╝██║██╔══██║██║╚██╔╝██║██╔══██╗██╔══██║\n",
      "        ██║ ╚═╝ ██║██║  ██║██║ ╚═╝ ██║██████╔╝██║  ██║\n",
      "        ╚═╝     ╚═╝╚═╝  ╚═╝╚═╝     ╚═╝╚═════╝ ╚═╝  ╚═╝\n",
      "\n",
      "        mamba (1.1.0) supported by @QuantStack\n",
      "\n",
      "        GitHub:  https://github.com/mamba-org/mamba\n",
      "        Twitter: https://twitter.com/QuantStack\n",
      "\n",
      "█████████████████████████████████████████████████████████████\n",
      "\n",
      "\n",
      "Looking for: ['pystac', 'planetary-computer']\n",
      "\n",
      "\u001b[?25l\u001b[2K\u001b[0G[+] 0.0s\n",
      "\u001b[2K\u001b[1A\u001b[2K\u001b[0G[+] 0.1s\n",
      "conda-forge/linux-64 \u001b[90m━━╸\u001b[0m\u001b[33m━━━━━━━━━━━━━━━╸\u001b[0m\u001b[90m━━━━\u001b[0m   0.0 B /  ??.?MB @  ??.?MB/s  0.1s\n",
      "conda-forge/noarch   \u001b[90m━╸\u001b[0m\u001b[33m━━━━━━━━━━━━━━━╸\u001b[0m\u001b[90m━━━━━\u001b[0m   0.0 B /  ??.?MB @  ??.?MB/s  0.1s\n",
      "pkgs/main/linux-64   \u001b[90m━━━━━━╸\u001b[0m\u001b[33m━━━━━━━━━━━━━━━━\u001b[0m   0.0 B /  ??.?MB @  ??.?MB/s  0.1s\n",
      "pkgs/main/noarch     \u001b[90m━╸\u001b[0m\u001b[33m━━━━━━━━━━━━━━━╸\u001b[0m\u001b[90m━━━━━\u001b[0m   0.0 B /  ??.?MB @  ??.?MB/s  0.1s\n",
      "pkgs/r/linux-64      \u001b[33m━━━━━━━━━━━━━╸\u001b[0m\u001b[90m━━━━━━━━━\u001b[0m   0.0 B /  ??.?MB @  ??.?MB/s  0.1s\u001b[2K\u001b[1A\u001b[2K\u001b[1A\u001b[2K\u001b[1A\u001b[2K\u001b[1A\u001b[2K\u001b[1A\u001b[2K\u001b[0G[+] 0.2s\n",
      "conda-forge/linux-64 \u001b[90m━━━╸\u001b[0m\u001b[33m━━━━━━━━━━━━━━━╸\u001b[0m\u001b[90m━━━\u001b[0m   0.0 B /  ??.?MB @  ??.?MB/s  0.2s\n",
      "conda-forge/noarch   \u001b[90m━━╸\u001b[0m\u001b[33m━━━━━━━━━━━━━━━╸\u001b[0m\u001b[90m━━━━\u001b[0m   0.0 B /  ??.?MB @  ??.?MB/s  0.2s\n",
      "pkgs/main/linux-64   \u001b[90m━━━━━━━━╸\u001b[0m\u001b[33m━━━━━━━━━━━━━━\u001b[0m   0.0 B /  ??.?MB @  ??.?MB/s  0.2s\n",
      "pkgs/main/noarch     \u001b[90m━━╸\u001b[0m\u001b[33m━━━━━━━━━━━━━━━╸\u001b[0m\u001b[90m━━━━\u001b[0m   0.0 B /  ??.?MB @  ??.?MB/s  0.2s\n",
      "pkgs/r/linux-64      \u001b[33m━━━━━━━━━━━━━━╸\u001b[0m\u001b[90m━━━━━━━━\u001b[0m   0.0 B /  ??.?MB @  ??.?MB/s  0.2s\u001b[2K\u001b[1A\u001b[2K\u001b[1A\u001b[2K\u001b[1A\u001b[2K\u001b[1A\u001b[2K\u001b[1A\u001b[2K\u001b[0G[+] 0.3s\n",
      "conda-forge/linux-64 \u001b[90m━━━━╸\u001b[0m\u001b[33m━━━━━━━━━━━━━━━╸\u001b[0m\u001b[90m━━\u001b[0m   0.0 B /  ??.?MB @  ??.?MB/s  0.3s\n",
      "conda-forge/noarch   \u001b[90m━━━╸\u001b[0m\u001b[33m━━━━━━━━━━━━━━━╸\u001b[0m\u001b[90m━━━\u001b[0m   0.0 B /  ??.?MB @  ??.?MB/s  0.3s\n",
      "pkgs/main/linux-64   \u001b[90m━━━━━━━━━╸\u001b[0m\u001b[33m━━━━━━━━━━━━━\u001b[0m   0.0 B /  ??.?MB @  ??.?MB/s  0.3s\n",
      "pkgs/main/noarch     \u001b[90m━━━╸\u001b[0m\u001b[33m━━━━━━━━━━━━━━━╸\u001b[0m\u001b[90m━━━\u001b[0m  12.3kB /  ??.?MB @  46.8kB/s  0.3s\n",
      "pkgs/r/linux-64      \u001b[33m━━━━━━━━━━━━━━━╸\u001b[0m\u001b[90m━━━━━━━\u001b[0m   0.0 B /  ??.?MB @  ??.?MB/s  0.3s\u001b[2K\u001b[1A\u001b[2K\u001b[1A\u001b[2K\u001b[1A\u001b[2K\u001b[1A\u001b[2K\u001b[1A\u001b[2K\u001b[0G[+] 0.4s\n",
      "conda-forge/linux-64 \u001b[90m━━━━━╸\u001b[0m\u001b[33m━━━━━━━━━━━━━━━╸\u001b[0m\u001b[90m━\u001b[0m 250.2kB /  ??.?MB @ 755.3kB/s  0.4s\n",
      "conda-forge/noarch   \u001b[90m━━━━╸\u001b[0m\u001b[33m━━━━━━━━━━━━━━━╸\u001b[0m\u001b[90m━━\u001b[0m 332.4kB /  ??.?MB @ 983.2kB/s  0.4s\n",
      "pkgs/main/linux-64   \u001b[90m━━━━━━━━━━╸\u001b[0m\u001b[33m━━━━━━━━━━━━\u001b[0m 159.8kB /  ??.?MB @ 511.5kB/s  0.4s\n",
      "pkgs/main/noarch     \u001b[90m━━━━╸\u001b[0m\u001b[33m━━━━━━━━━━━━━━━╸\u001b[0m\u001b[90m━━\u001b[0m 299.0kB /  ??.?MB @ 945.0kB/s  0.4s\n",
      "pkgs/r/linux-64      \u001b[90m╸\u001b[0m\u001b[33m━━━━━━━━━━━━━━━╸\u001b[0m\u001b[90m━━━━━━\u001b[0m 237.6kB /  ??.?MB @ 740.3kB/s  0.4s\u001b[2K\u001b[1A\u001b[2K\u001b[1A\u001b[2K\u001b[1A\u001b[2K\u001b[1A\u001b[2K\u001b[1A\u001b[2K\u001b[0G[+] 0.5s\n",
      "conda-forge/linux-64 \u001b[90m━━━━━━╸\u001b[0m\u001b[33m━━━━━━━━━━━━━━━━\u001b[0m 878.7kB /  ??.?MB @   2.0MB/s  0.5s\n",
      "conda-forge/noarch   \u001b[90m━━━━━╸\u001b[0m\u001b[33m━━━━━━━━━━━━━━━╸\u001b[0m\u001b[90m━\u001b[0m   1.0MB /  ??.?MB @   2.2MB/s  0.5s\n",
      "pkgs/main/linux-64   \u001b[90m━━━━━━━━━━━━╸\u001b[0m\u001b[33m━━━━━━━━━━\u001b[0m   1.1MB /  ??.?MB @   2.3MB/s  0.5s\n",
      "pkgs/main/noarch     \u001b[90m━━━━━━╸\u001b[0m\u001b[33m━━━━━━━━━━━━━━━━\u001b[0m 819.6kB /  ??.?MB @   1.7MB/s  0.5s\n",
      "pkgs/r/linux-64      \u001b[90m━╸\u001b[0m\u001b[33m━━━━━━━━━━━━━━━╸\u001b[0m\u001b[90m━━━━━\u001b[0m 790.5kB /  ??.?MB @   1.9MB/s  0.5s\u001b[2K\u001b[1A\u001b[2K\u001b[1A\u001b[2K\u001b[1A\u001b[2K\u001b[1A\u001b[2K\u001b[1A\u001b[2K\u001b[0Gpkgs/main/noarch                                   819.6kB @   1.7MB/s  0.5s\n",
      "[+] 0.6s\n",
      "conda-forge/linux-64 \u001b[90m━━━━━━━╸\u001b[0m\u001b[33m━━━━━━━━━━━━━━━\u001b[0m   1.1MB /  ??.?MB @   2.1MB/s  0.6s\n",
      "conda-forge/noarch   \u001b[90m━━━━━━╸\u001b[0m\u001b[33m━━━━━━━━━━━━━━━━\u001b[0m   1.5MB /  ??.?MB @   2.6MB/s  0.6s\n",
      "pkgs/main/linux-64   \u001b[33m━━━━━━━╸\u001b[0m\u001b[90m━━━━━━━━━━━━━━━\u001b[0m   1.7MB /  ??.?MB @   2.8MB/s  0.6s\n",
      "pkgs/r/linux-64      \u001b[90m━━╸\u001b[0m\u001b[33m━━━━━━━━━━━━━━━╸\u001b[0m\u001b[90m━━━━\u001b[0m   1.2MB /  ??.?MB @   2.4MB/s  0.6s\n",
      "pkgs/r/noarch        \u001b[33m━━━━━━━━━━━╸\u001b[0m\u001b[90m━━━━━━━━━━━\u001b[0m   0.0 B /  ??.?MB @  ??.?MB/s  0.1s\u001b[2K\u001b[1A\u001b[2K\u001b[1A\u001b[2K\u001b[1A\u001b[2K\u001b[1A\u001b[2K\u001b[1A\u001b[2K\u001b[0Gpkgs/r/linux-64                                      1.4MB @   2.4MB/s  0.7s\n",
      "[+] 0.7s\n",
      "conda-forge/linux-64 \u001b[90m━━━━━━━━╸\u001b[0m\u001b[33m━━━━━━━━━━━━━━\u001b[0m   1.5MB /  ??.?MB @   2.2MB/s  0.7s\n",
      "conda-forge/noarch   \u001b[90m━━━━━━╸\u001b[0m\u001b[33m━━━━━━━━━━━━━━━━\u001b[0m   1.5MB /  ??.?MB @   2.6MB/s  0.7s\n",
      "pkgs/main/linux-64   \u001b[33m━━━━━━━╸\u001b[0m\u001b[90m━━━━━━━━━━━━━━━\u001b[0m   1.7MB /  ??.?MB @   2.8MB/s  0.7s\n",
      "pkgs/r/noarch        \u001b[33m━━━━━━━━━━━━━╸\u001b[0m\u001b[90m━━━━━━━━━\u001b[0m 548.9kB /  ??.?MB @ 876.9kB/s  0.2s\u001b[2K\u001b[1A\u001b[2K\u001b[1A\u001b[2K\u001b[1A\u001b[2K\u001b[1A\u001b[2K\u001b[0G[+] 0.8s\n",
      "conda-forge/linux-64 \u001b[90m━━━━━━━━╸\u001b[0m\u001b[33m━━━━━━━━━━━━━━\u001b[0m   1.5MB /  ??.?MB @   2.2MB/s  0.8s\n",
      "conda-forge/noarch   \u001b[90m━━━━━━━╸\u001b[0m\u001b[33m━━━━━━━━━━━━━━━\u001b[0m   1.9MB /  ??.?MB @   2.7MB/s  0.8s\n",
      "pkgs/main/linux-64   \u001b[33m━━━━━━━━╸\u001b[0m\u001b[90m━━━━━━━━━━━━━━\u001b[0m   2.6MB /  ??.?MB @   3.3MB/s  0.8s\n",
      "pkgs/r/noarch        \u001b[33m━━━━━━━━━━━━━╸\u001b[0m\u001b[90m━━━━━━━━━\u001b[0m 548.9kB /  ??.?MB @ 876.9kB/s  0.3s\u001b[2K\u001b[1A\u001b[2K\u001b[1A\u001b[2K\u001b[1A\u001b[2K\u001b[1A\u001b[2K\u001b[0Gpkgs/r/noarch                                        1.3MB @   1.6MB/s  0.3s\n",
      "[+] 0.9s\n",
      "conda-forge/linux-64 \u001b[90m━━━━━━━━━╸\u001b[0m\u001b[33m━━━━━━━━━━━━━\u001b[0m   1.9MB /  ??.?MB @   2.2MB/s  0.9s\n",
      "conda-forge/noarch   \u001b[90m━━━━━━━━╸\u001b[0m\u001b[33m━━━━━━━━━━━━━━\u001b[0m   2.4MB /  ??.?MB @   2.7MB/s  0.9s\n",
      "pkgs/main/linux-64   \u001b[33m━━━━━━━━╸\u001b[0m\u001b[90m━━━━━━━━━━━━━━\u001b[0m   2.6MB /  ??.?MB @   3.3MB/s  0.9s\u001b[2K\u001b[1A\u001b[2K\u001b[1A\u001b[2K\u001b[1A\u001b[2K\u001b[0G[+] 1.0s\n",
      "conda-forge/linux-64 \u001b[90m━━━━━━━━━━━╸\u001b[0m\u001b[33m━━━━━━━━━━━\u001b[0m   2.3MB /  ??.?MB @   2.4MB/s  1.0s\n",
      "conda-forge/noarch   \u001b[90m━━━━━━━━━╸\u001b[0m\u001b[33m━━━━━━━━━━━━━\u001b[0m   2.9MB /  ??.?MB @   2.9MB/s  1.0s\n",
      "pkgs/main/linux-64   \u001b[33m━━━━━━━━━━╸\u001b[0m\u001b[90m━━━━━━━━━━━━\u001b[0m   3.9MB /  ??.?MB @   3.9MB/s  1.0s\u001b[2K\u001b[1A\u001b[2K\u001b[1A\u001b[2K\u001b[1A\u001b[2K\u001b[0G[+] 1.1s\n",
      "conda-forge/linux-64 \u001b[90m━━━━━━━━━━━━━╸\u001b[0m\u001b[33m━━━━━━━━━\u001b[0m   3.1MB /  ??.?MB @   2.9MB/s  1.1s\n",
      "conda-forge/noarch   \u001b[90m━━━━━━━━━━━━╸\u001b[0m\u001b[33m━━━━━━━━━━\u001b[0m   3.8MB /  ??.?MB @   3.5MB/s  1.1s\n",
      "pkgs/main/linux-64   \u001b[33m━━━━━━━━━━━━━╸\u001b[0m\u001b[90m━━━━━━━━━\u001b[0m   4.5MB /  ??.?MB @   4.1MB/s  1.1s\u001b[2K\u001b[1A\u001b[2K\u001b[1A\u001b[2K\u001b[1A\u001b[2K\u001b[0G[+] 1.2s\n",
      "conda-forge/linux-64 \u001b[33m━━━━━━━━━╸\u001b[0m\u001b[90m━━━━━━━━━━━━━\u001b[0m   3.9MB /  ??.?MB @   3.3MB/s  1.2s\n",
      "conda-forge/noarch   \u001b[33m━━━━━━━━╸\u001b[0m\u001b[90m━━━━━━━━━━━━━━\u001b[0m   4.7MB /  ??.?MB @   3.9MB/s  1.2s\n",
      "pkgs/main/linux-64   \u001b[33m━━━━━━━━━━━━━━╸\u001b[0m\u001b[90m━━━━━━━━\u001b[0m   4.8MB /  ??.?MB @   4.2MB/s  1.2s\u001b[2K\u001b[1A\u001b[2K\u001b[1A\u001b[2K\u001b[1A\u001b[2K\u001b[0G[+] 1.3s\n",
      "conda-forge/linux-64 \u001b[33m━━━━━━━━━━╸\u001b[0m\u001b[90m━━━━━━━━━━━━\u001b[0m   4.3MB /  ??.?MB @   3.5MB/s  1.3s\n",
      "conda-forge/noarch   \u001b[33m━━━━━━━━━╸\u001b[0m\u001b[90m━━━━━━━━━━━━━\u001b[0m   5.1MB /  ??.?MB @   4.1MB/s  1.3s\n",
      "pkgs/main/linux-64   \u001b[33m━━━━━━━━━━━━━━━╸\u001b[0m\u001b[90m━━━━━━━\u001b[0m   5.1MB /  ??.?MB @   4.2MB/s  1.3s\u001b[2K\u001b[1A\u001b[2K\u001b[1A\u001b[2K\u001b[1A\u001b[2K\u001b[0G[+] 1.4s\n",
      "conda-forge/linux-64 \u001b[33m━━━━━━━━━━╸\u001b[0m\u001b[90m━━━━━━━━━━━\u001b[0m   4.3MB @   3.5MB/s             1.4s\n",
      "conda-forge/noarch   \u001b[33m━━━━━━━━━╸\u001b[0m\u001b[90m━━━━━━━━━━━━\u001b[0m   5.1MB @   4.1MB/s             1.4s\n",
      "pkgs/main/linux-64   ━━━━━━━━━━━━━━━━━━━━━━   5.3MB @   4.2MB/s Finalizing  1.4s\u001b[2K\u001b[1A\u001b[2K\u001b[1A\u001b[2K\u001b[1A\u001b[2K\u001b[0G[+] 1.5s\n",
      "conda-forge/linux-64 \u001b[33m━━━━━━━━━━╸\u001b[0m\u001b[90m━━━━━━━━━━━━\u001b[0m   4.3MB /  ??.?MB @   3.5MB/s  1.5s\n",
      "conda-forge/noarch   \u001b[33m━━━━━━━━━╸\u001b[0m\u001b[90m━━━━━━━━━━━━━\u001b[0m   5.1MB /  ??.?MB @   4.1MB/s  1.5s\u001b[2K\u001b[1A\u001b[2K\u001b[1A\u001b[2K\u001b[0Gpkgs/main/linux-64                                 @   4.2MB/s  1.5s\n",
      "[+] 1.6s\n",
      "conda-forge/linux-64 \u001b[33m━━━━━━━━━━╸\u001b[0m\u001b[90m━━━━━━━━━━━━\u001b[0m   4.3MB /  ??.?MB @   3.5MB/s  1.6s\n",
      "conda-forge/noarch   \u001b[33m━━━━━━━━━╸\u001b[0m\u001b[90m━━━━━━━━━━━━━\u001b[0m   5.1MB /  ??.?MB @   4.1MB/s  1.6s\u001b[2K\u001b[1A\u001b[2K\u001b[1A\u001b[2K\u001b[0G[+] 1.7s\n",
      "conda-forge/linux-64 \u001b[33m━━━━━━━━━━━━╸\u001b[0m\u001b[90m━━━━━━━━━━\u001b[0m   5.4MB /  ??.?MB @   3.2MB/s  1.7s\n",
      "conda-forge/noarch   \u001b[33m━━━━━━━━━━╸\u001b[0m\u001b[90m━━━━━━━━━━━━\u001b[0m   5.5MB /  ??.?MB @   3.4MB/s  1.7s\u001b[2K\u001b[1A\u001b[2K\u001b[1A\u001b[2K\u001b[0G[+] 1.8s\n",
      "conda-forge/linux-64 \u001b[33m━━━━━━━━━━━━━╸\u001b[0m\u001b[90m━━━━━━━━━\u001b[0m   5.8MB /  ??.?MB @   3.3MB/s  1.8s\n",
      "conda-forge/noarch   \u001b[33m━━━━━━━━━━━━╸\u001b[0m\u001b[90m━━━━━━━━━━\u001b[0m   7.2MB /  ??.?MB @   4.0MB/s  1.8s\u001b[2K\u001b[1A\u001b[2K\u001b[1A\u001b[2K\u001b[0G[+] 1.9s\n",
      "conda-forge/linux-64 \u001b[90m╸\u001b[0m\u001b[33m━━━━━━━━━━━━━━━╸\u001b[0m\u001b[90m━━━━━━\u001b[0m   7.0MB /  ??.?MB @   3.8MB/s  1.9s\n",
      "conda-forge/noarch   \u001b[33m━━━━━━━━━━━━━╸\u001b[0m\u001b[90m━━━━━━━━━\u001b[0m   7.8MB /  ??.?MB @   4.2MB/s  1.9s\u001b[2K\u001b[1A\u001b[2K\u001b[1A\u001b[2K\u001b[0G[+] 2.0s\n",
      "conda-forge/linux-64 \u001b[90m━━╸\u001b[0m\u001b[33m━━━━━━━━━━━━━━━╸\u001b[0m\u001b[90m━━━━\u001b[0m   8.5MB /  ??.?MB @   4.3MB/s  2.0s\n",
      "conda-forge/noarch   \u001b[90m╸\u001b[0m\u001b[33m━━━━━━━━━━━━━━━╸\u001b[0m\u001b[90m━━━━━━\u001b[0m   8.3MB /  ??.?MB @   4.2MB/s  2.0s\u001b[2K\u001b[1A\u001b[2K\u001b[1A\u001b[2K\u001b[0G[+] 2.1s\n",
      "conda-forge/linux-64 \u001b[90m━━━━╸\u001b[0m\u001b[33m━━━━━━━━━━━━━━━╸\u001b[0m\u001b[90m━━\u001b[0m   9.0MB /  ??.?MB @   4.3MB/s  2.1s\n",
      "conda-forge/noarch   \u001b[90m━━╸\u001b[0m\u001b[33m━━━━━━━━━━━━━━━╸\u001b[0m\u001b[90m━━━━\u001b[0m   8.8MB /  ??.?MB @   4.3MB/s  2.1s\u001b[2K\u001b[1A\u001b[2K\u001b[1A\u001b[2K\u001b[0G[+] 2.2s\n",
      "conda-forge/linux-64 \u001b[90m━━━━━━╸\u001b[0m\u001b[33m━━━━━━━━━━━━━━━━\u001b[0m   9.5MB /  ??.?MB @   4.3MB/s  2.2s\n",
      "conda-forge/noarch   \u001b[90m━━━━╸\u001b[0m\u001b[33m━━━━━━━━━━━━━━━╸\u001b[0m\u001b[90m━━\u001b[0m   9.3MB /  ??.?MB @   4.3MB/s  2.2s\u001b[2K\u001b[1A\u001b[2K\u001b[1A\u001b[2K\u001b[0G[+] 2.3s\n",
      "conda-forge/linux-64 \u001b[90m━━━━━━━━╸\u001b[0m\u001b[33m━━━━━━━━━━━━━━\u001b[0m  10.0MB /  ??.?MB @   4.4MB/s  2.3s\n",
      "conda-forge/noarch   \u001b[90m━━━━━━╸\u001b[0m\u001b[33m━━━━━━━━━━━━━━━━\u001b[0m   9.8MB /  ??.?MB @   4.3MB/s  2.3s\u001b[2K\u001b[1A\u001b[2K\u001b[1A\u001b[2K\u001b[0G[+] 2.4s\n",
      "conda-forge/linux-64 \u001b[90m━━━━━━━━━━━╸\u001b[0m\u001b[33m━━━━━━━━━━━\u001b[0m  10.5MB /  ??.?MB @   4.4MB/s  2.4s\n",
      "conda-forge/noarch   \u001b[90m━━━━━━━━╸\u001b[0m\u001b[33m━━━━━━━━━━━━━━\u001b[0m  10.3MB /  ??.?MB @   4.4MB/s  2.4s\u001b[2K\u001b[1A\u001b[2K\u001b[1A\u001b[2K\u001b[0G[+] 2.5s\n",
      "conda-forge/linux-64 \u001b[90m━━━━━━━━━━━━━╸\u001b[0m\u001b[33m━━━━━━━━━\u001b[0m  11.0MB /  ??.?MB @   4.4MB/s  2.5s\n",
      "conda-forge/noarch   \u001b[90m━━━━━━━━━━━╸\u001b[0m\u001b[33m━━━━━━━━━━━\u001b[0m  10.8MB /  ??.?MB @   4.4MB/s  2.5s\u001b[2K\u001b[1A\u001b[2K\u001b[1A\u001b[2K\u001b[0G[+] 2.6s\n",
      "conda-forge/linux-64 \u001b[33m━━━━━━━━━╸\u001b[0m\u001b[90m━━━━━━━━━━━━━\u001b[0m  11.5MB /  ??.?MB @   4.4MB/s  2.6s\n",
      "conda-forge/noarch   \u001b[90m━━━━━━━━━━━━━╸\u001b[0m\u001b[33m━━━━━━━━━\u001b[0m  11.3MB /  ??.?MB @   4.4MB/s  2.6s\u001b[2K\u001b[1A\u001b[2K\u001b[1A\u001b[2K\u001b[0G[+] 2.7s\n",
      "conda-forge/linux-64 \u001b[33m━━━━━━━━━╸\u001b[0m\u001b[90m━━━━━━━━━━━━━\u001b[0m  11.5MB /  ??.?MB @   4.4MB/s  2.7s\n",
      "conda-forge/noarch   \u001b[90m━━━━━━━━━━━━━╸\u001b[0m\u001b[33m━━━━━━━━━\u001b[0m  11.3MB /  ??.?MB @   4.4MB/s  2.7s\u001b[2K\u001b[1A\u001b[2K\u001b[1A\u001b[2K\u001b[0G[+] 2.8s\n",
      "conda-forge/linux-64 \u001b[33m━━━━━━━━━╸\u001b[0m\u001b[90m━━━━━━━━━━━━━\u001b[0m  11.5MB /  ??.?MB @   4.4MB/s  2.8s\n",
      "conda-forge/noarch   \u001b[90m━━━━━━━━━━━━━╸\u001b[0m\u001b[33m━━━━━━━━━\u001b[0m  11.3MB /  ??.?MB @   4.4MB/s  2.8s\u001b[2K\u001b[1A\u001b[2K\u001b[1A\u001b[2K\u001b[0G[+] 2.9s\n",
      "conda-forge/linux-64 \u001b[33m━━━━━━━━━╸\u001b[0m\u001b[90m━━━━━━━━━━━━━\u001b[0m  11.5MB /  ??.?MB @   4.4MB/s  2.9s\n",
      "conda-forge/noarch   \u001b[90m━━━━━━━━━━━━━╸\u001b[0m\u001b[33m━━━━━━━━━\u001b[0m  11.3MB /  ??.?MB @   4.4MB/s  2.9s\u001b[2K\u001b[1A\u001b[2K\u001b[1A\u001b[2K\u001b[0G[+] 3.0s\n",
      "conda-forge/linux-64 \u001b[33m━━━━━━━━━╸\u001b[0m\u001b[90m━━━━━━━━━━━━━\u001b[0m  11.5MB /  ??.?MB @   4.4MB/s  3.0s\n",
      "conda-forge/noarch   \u001b[90m━━━━━━━━━━━━━╸\u001b[0m\u001b[33m━━━━━━━━━\u001b[0m  11.3MB /  ??.?MB @   4.4MB/s  3.0s\u001b[2K\u001b[1A\u001b[2K\u001b[1A\u001b[2K\u001b[0G[+] 3.1s\n",
      "conda-forge/linux-64 \u001b[33m━━━━━━━━━╸\u001b[0m\u001b[90m━━━━━━━━━━━━\u001b[0m  11.5MB @   4.4MB/s             3.1s\n",
      "conda-forge/noarch   ━━━━━━━━━━━━━━━━━━━━━━  11.5MB @   4.4MB/s Finalizing  3.1s\u001b[2K\u001b[1A\u001b[2K\u001b[1A\u001b[2K\u001b[0G[+] 3.2s\n",
      "conda-forge/linux-64 \u001b[33m━━━━━━━━━╸\u001b[0m\u001b[90m━━━━━━━━━━━━\u001b[0m  11.5MB @   4.4MB/s             3.2s\n",
      "conda-forge/noarch   ━━━━━━━━━━━━━━━━━━━━━━  11.5MB @   4.4MB/s Finalizing  3.2s\u001b[2K\u001b[1A\u001b[2K\u001b[1A\u001b[2K\u001b[0G[+] 3.3s\n",
      "conda-forge/linux-64 \u001b[33m━━━━━━━━━╸\u001b[0m\u001b[90m━━━━━━━━━━━━━\u001b[0m  11.5MB /  ??.?MB @   4.4MB/s  3.3s\u001b[2K\u001b[1A\u001b[2K\u001b[0G[+] 3.4s\n",
      "conda-forge/linux-64 \u001b[33m━━━━━━━━━╸\u001b[0m\u001b[90m━━━━━━━━━━━━━\u001b[0m  11.5MB /  ??.?MB @   4.4MB/s  3.4s\u001b[2K\u001b[1A\u001b[2K\u001b[0G[+] 3.5s\n",
      "conda-forge/linux-64 \u001b[33m━━━━━━━━━╸\u001b[0m\u001b[90m━━━━━━━━━━━━━\u001b[0m  11.5MB /  ??.?MB @   4.4MB/s  3.5s\u001b[2K\u001b[1A\u001b[2K\u001b[0G[+] 3.6s\n",
      "conda-forge/linux-64 \u001b[33m━━━━━━━━━╸\u001b[0m\u001b[90m━━━━━━━━━━━━━\u001b[0m  11.5MB /  ??.?MB @   4.4MB/s  3.6s\u001b[2K\u001b[1A\u001b[2K\u001b[0G[+] 3.7s\n",
      "conda-forge/linux-64 \u001b[33m━━━━━━━━━╸\u001b[0m\u001b[90m━━━━━━━━━━━━━\u001b[0m  11.5MB /  ??.?MB @   4.4MB/s  3.7s\u001b[2K\u001b[1A\u001b[2K\u001b[0Gconda-forge/noarch                                 @   4.4MB/s  3.3s\n",
      "[+] 3.8s\n",
      "conda-forge/linux-64 \u001b[33m━━━━━━━━━━━╸\u001b[0m\u001b[90m━━━━━━━━━━━\u001b[0m  13.6MB /  ??.?MB @   3.6MB/s  3.8s\u001b[2K\u001b[1A\u001b[2K\u001b[0G[+] 3.9s\n",
      "conda-forge/linux-64 \u001b[33m━━━━━━━━━━━━╸\u001b[0m\u001b[90m━━━━━━━━━━\u001b[0m  15.0MB /  ??.?MB @   3.9MB/s  3.9s\u001b[2K\u001b[1A\u001b[2K\u001b[0G[+] 4.0s\n",
      "conda-forge/linux-64 \u001b[33m━━━━━━━━━━━━━━╸\u001b[0m\u001b[90m━━━━━━━━\u001b[0m  15.5MB /  ??.?MB @   3.9MB/s  4.0s\u001b[2K\u001b[1A\u001b[2K\u001b[0G[+] 4.1s\n",
      "conda-forge/linux-64 \u001b[90m━╸\u001b[0m\u001b[33m━━━━━━━━━━━━━━━╸\u001b[0m\u001b[90m━━━━━\u001b[0m  16.0MB /  ??.?MB @   4.0MB/s  4.1s\u001b[2K\u001b[1A\u001b[2K\u001b[0G[+] 4.2s\n",
      "conda-forge/linux-64 \u001b[90m━━━╸\u001b[0m\u001b[33m━━━━━━━━━━━━━━━╸\u001b[0m\u001b[90m━━━\u001b[0m  16.5MB /  ??.?MB @   4.0MB/s  4.2s\u001b[2K\u001b[1A\u001b[2K\u001b[0G[+] 4.3s\n",
      "conda-forge/linux-64 \u001b[90m━━━━━╸\u001b[0m\u001b[33m━━━━━━━━━━━━━━━╸\u001b[0m\u001b[90m━\u001b[0m  17.1MB /  ??.?MB @   4.0MB/s  4.3s\u001b[2K\u001b[1A\u001b[2K\u001b[0G[+] 4.4s\n",
      "conda-forge/linux-64 \u001b[90m━━━━━━━╸\u001b[0m\u001b[33m━━━━━━━━━━━━━━━\u001b[0m  17.6MB /  ??.?MB @   4.0MB/s  4.4s\u001b[2K\u001b[1A\u001b[2K\u001b[0G[+] 4.5s\n",
      "conda-forge/linux-64 \u001b[90m━━━━━━━━━╸\u001b[0m\u001b[33m━━━━━━━━━━━━━\u001b[0m  18.2MB /  ??.?MB @   4.1MB/s  4.5s\u001b[2K\u001b[1A\u001b[2K\u001b[0G[+] 4.6s\n",
      "conda-forge/linux-64 \u001b[90m━━━━━━━━━━━━╸\u001b[0m\u001b[33m━━━━━━━━━━\u001b[0m  18.7MB /  ??.?MB @   4.1MB/s  4.6s\u001b[2K\u001b[1A\u001b[2K\u001b[0G[+] 4.7s\n",
      "conda-forge/linux-64 \u001b[33m━━━━━━━━╸\u001b[0m\u001b[90m━━━━━━━━━━━━━━\u001b[0m  19.2MB /  ??.?MB @   4.1MB/s  4.7s\u001b[2K\u001b[1A\u001b[2K\u001b[0G[+] 4.8s\n",
      "conda-forge/linux-64 \u001b[33m━━━━━━━━━━╸\u001b[0m\u001b[90m━━━━━━━━━━━━\u001b[0m  19.8MB /  ??.?MB @   4.2MB/s  4.8s\u001b[2K\u001b[1A\u001b[2K\u001b[0G[+] 4.9s\n",
      "conda-forge/linux-64 \u001b[33m━━━━━━━━━━━━╸\u001b[0m\u001b[90m━━━━━━━━━━\u001b[0m  20.3MB /  ??.?MB @   4.2MB/s  4.9s\u001b[2K\u001b[1A\u001b[2K\u001b[0G[+] 5.0s\n",
      "conda-forge/linux-64 \u001b[33m━━━━━━━━━━━━━━╸\u001b[0m\u001b[90m━━━━━━━━\u001b[0m  20.7MB /  ??.?MB @   4.2MB/s  5.0s\u001b[2K\u001b[1A\u001b[2K\u001b[0G[+] 5.1s\n",
      "conda-forge/linux-64 \u001b[90m━╸\u001b[0m\u001b[33m━━━━━━━━━━━━━━━╸\u001b[0m\u001b[90m━━━━━\u001b[0m  21.3MB /  ??.?MB @   4.2MB/s  5.1s\u001b[2K\u001b[1A\u001b[2K\u001b[0G[+] 5.2s\n",
      "conda-forge/linux-64 \u001b[90m━━━╸\u001b[0m\u001b[33m━━━━━━━━━━━━━━━╸\u001b[0m\u001b[90m━━━\u001b[0m  21.7MB /  ??.?MB @   4.2MB/s  5.2s\u001b[2K\u001b[1A\u001b[2K\u001b[0G[+] 5.3s\n",
      "conda-forge/linux-64 \u001b[90m━━━━━╸\u001b[0m\u001b[33m━━━━━━━━━━━━━━━╸\u001b[0m\u001b[90m━\u001b[0m  22.2MB /  ??.?MB @   4.2MB/s  5.3s\u001b[2K\u001b[1A\u001b[2K\u001b[0G[+] 5.4s\n",
      "conda-forge/linux-64 \u001b[90m━━━━━━━╸\u001b[0m\u001b[33m━━━━━━━━━━━━━━━\u001b[0m  22.8MB /  ??.?MB @   4.2MB/s  5.4s\u001b[2K\u001b[1A\u001b[2K\u001b[0G[+] 5.5s\n",
      "conda-forge/linux-64 \u001b[90m━━━━━━━━━╸\u001b[0m\u001b[33m━━━━━━━━━━━━━\u001b[0m  23.2MB /  ??.?MB @   4.3MB/s  5.5s\u001b[2K\u001b[1A\u001b[2K\u001b[0G[+] 5.6s\n",
      "conda-forge/linux-64 \u001b[90m━━━━━━━━━━━━╸\u001b[0m\u001b[33m━━━━━━━━━━\u001b[0m  23.7MB /  ??.?MB @   4.3MB/s  5.6s\u001b[2K\u001b[1A\u001b[2K\u001b[0G[+] 5.7s\n",
      "conda-forge/linux-64 \u001b[33m━━━━━━━━╸\u001b[0m\u001b[90m━━━━━━━━━━━━━━\u001b[0m  24.2MB /  ??.?MB @   4.3MB/s  5.7s\u001b[2K\u001b[1A\u001b[2K\u001b[0G[+] 5.8s\n",
      "conda-forge/linux-64 \u001b[33m━━━━━━━━━━╸\u001b[0m\u001b[90m━━━━━━━━━━━━\u001b[0m  24.7MB /  ??.?MB @   4.3MB/s  5.8s\u001b[2K\u001b[1A\u001b[2K\u001b[0G[+] 5.9s\n",
      "conda-forge/linux-64 \u001b[33m━━━━━━━━━━━━╸\u001b[0m\u001b[90m━━━━━━━━━━\u001b[0m  25.3MB /  ??.?MB @   4.3MB/s  5.9s\u001b[2K\u001b[1A\u001b[2K\u001b[0G[+] 6.0s\n",
      "conda-forge/linux-64 \u001b[33m━━━━━━━━━━━━━━╸\u001b[0m\u001b[90m━━━━━━━━\u001b[0m  25.7MB /  ??.?MB @   4.3MB/s  6.0s\u001b[2K\u001b[1A\u001b[2K\u001b[0G[+] 6.1s\n",
      "conda-forge/linux-64 \u001b[90m━╸\u001b[0m\u001b[33m━━━━━━━━━━━━━━━╸\u001b[0m\u001b[90m━━━━━\u001b[0m  26.1MB /  ??.?MB @   4.3MB/s  6.1s\u001b[2K\u001b[1A\u001b[2K\u001b[0G[+] 6.2s\n",
      "conda-forge/linux-64 \u001b[90m━━━╸\u001b[0m\u001b[33m━━━━━━━━━━━━━━━╸\u001b[0m\u001b[90m━━━\u001b[0m  26.8MB /  ??.?MB @   4.3MB/s  6.2s\u001b[2K\u001b[1A\u001b[2K\u001b[0G[+] 6.3s\n",
      "conda-forge/linux-64 \u001b[90m━━━━━╸\u001b[0m\u001b[33m━━━━━━━━━━━━━━━╸\u001b[0m\u001b[90m━\u001b[0m  27.3MB /  ??.?MB @   4.4MB/s  6.3s\u001b[2K\u001b[1A\u001b[2K\u001b[0G[+] 6.4s\n",
      "conda-forge/linux-64 \u001b[90m━━━━━━━╸\u001b[0m\u001b[33m━━━━━━━━━━━━━━━\u001b[0m  27.8MB /  ??.?MB @   4.4MB/s  6.4s\u001b[2K\u001b[1A\u001b[2K\u001b[0G[+] 6.5s\n",
      "conda-forge/linux-64 \u001b[90m━━━━━━━━━╸\u001b[0m\u001b[33m━━━━━━━━━━━━━\u001b[0m  28.3MB /  ??.?MB @   4.4MB/s  6.5s\u001b[2K\u001b[1A\u001b[2K\u001b[0G[+] 6.6s\n",
      "conda-forge/linux-64 \u001b[90m━━━━━━━━━━━━╸\u001b[0m\u001b[33m━━━━━━━━━━\u001b[0m  28.8MB /  ??.?MB @   4.4MB/s  6.6s\u001b[2K\u001b[1A\u001b[2K\u001b[0G[+] 6.7s\n",
      "conda-forge/linux-64 \u001b[33m━━━━━━━━╸\u001b[0m\u001b[90m━━━━━━━━━━━━━━\u001b[0m  29.3MB /  ??.?MB @   4.4MB/s  6.7s\u001b[2K\u001b[1A\u001b[2K\u001b[0G[+] 6.8s\n",
      "conda-forge/linux-64 \u001b[33m━━━━━━━━━━╸\u001b[0m\u001b[90m━━━━━━━━━━━━\u001b[0m  29.8MB /  ??.?MB @   4.4MB/s  6.8s\u001b[2K\u001b[1A\u001b[2K\u001b[0G[+] 6.9s\n",
      "conda-forge/linux-64 \u001b[33m━━━━━━━━━━━╸\u001b[0m\u001b[90m━━━━━━━━━━━\u001b[0m  30.0MB /  ??.?MB @   4.4MB/s  6.9s\u001b[2K\u001b[1A\u001b[2K\u001b[0G[+] 7.0s\n",
      "conda-forge/linux-64 \u001b[33m━━━━━━━━━━━╸\u001b[0m\u001b[90m━━━━━━━━━━━\u001b[0m  30.0MB /  ??.?MB @   4.4MB/s  7.0s\u001b[2K\u001b[1A\u001b[2K\u001b[0G[+] 7.1s\n",
      "conda-forge/linux-64 \u001b[33m━━━━━━━━━━━╸\u001b[0m\u001b[90m━━━━━━━━━━━\u001b[0m  30.0MB /  ??.?MB @   4.4MB/s  7.1s\u001b[2K\u001b[1A\u001b[2K\u001b[0G[+] 7.2s\n",
      "conda-forge/linux-64 \u001b[33m━━━━━━━━━━━╸\u001b[0m\u001b[90m━━━━━━━━━━━\u001b[0m  30.0MB /  ??.?MB @   4.4MB/s  7.2s\u001b[2K\u001b[1A\u001b[2K\u001b[0G[+] 7.3s\n",
      "conda-forge/linux-64 \u001b[33m━━━━━━━━━━━╸\u001b[0m\u001b[90m━━━━━━━━━━━\u001b[0m  30.0MB /  ??.?MB @   4.4MB/s  7.3s\u001b[2K\u001b[1A\u001b[2K\u001b[0G[+] 7.4s\n",
      "conda-forge/linux-64 \u001b[33m━━━━━━━━━━━╸\u001b[0m\u001b[90m━━━━━━━━━━━\u001b[0m  30.0MB /  ??.?MB @   4.4MB/s  7.4s\u001b[2K\u001b[1A\u001b[2K\u001b[0G[+] 7.5s\n",
      "conda-forge/linux-64 \u001b[33m━━━━━━━━━━━╸\u001b[0m\u001b[90m━━━━━━━━━━━\u001b[0m  30.0MB /  ??.?MB @   4.4MB/s  7.5s\u001b[2K\u001b[1A\u001b[2K\u001b[0G[+] 7.6s\n",
      "conda-forge/linux-64 \u001b[33m━━━━━━━━━━━╸\u001b[0m\u001b[90m━━━━━━━━━━━\u001b[0m  30.0MB /  ??.?MB @   4.4MB/s  7.6s\u001b[2K\u001b[1A\u001b[2K\u001b[0G[+] 7.7s\n",
      "conda-forge/linux-64 \u001b[33m━━━━━━━━━━━╸\u001b[0m\u001b[90m━━━━━━━━━━━\u001b[0m  30.0MB /  ??.?MB @   4.4MB/s  7.7s\u001b[2K\u001b[1A\u001b[2K\u001b[0G[+] 7.8s\n",
      "conda-forge/linux-64 \u001b[33m━━━━━━━━━━━╸\u001b[0m\u001b[90m━━━━━━━━━━━\u001b[0m  30.0MB /  ??.?MB @   4.4MB/s  7.8s\u001b[2K\u001b[1A\u001b[2K\u001b[0G[+] 7.9s\n",
      "conda-forge/linux-64 \u001b[33m━━━━━━━━━━━╸\u001b[0m\u001b[90m━━━━━━━━━━━\u001b[0m  30.0MB /  ??.?MB @   4.4MB/s  7.9s\u001b[2K\u001b[1A\u001b[2K\u001b[0G[+] 8.0s\n",
      "conda-forge/linux-64 \u001b[33m━━━━━━━━━━━╸\u001b[0m\u001b[90m━━━━━━━━━━━\u001b[0m  30.0MB /  ??.?MB @   4.4MB/s  8.0s\u001b[2K\u001b[1A\u001b[2K\u001b[0G[+] 8.1s\n",
      "conda-forge/linux-64 \u001b[33m━━━━━━━━━━━╸\u001b[0m\u001b[90m━━━━━━━━━━━\u001b[0m  30.0MB /  ??.?MB @   4.4MB/s  8.1s\u001b[2K\u001b[1A\u001b[2K\u001b[0G[+] 8.2s\n",
      "conda-forge/linux-64 \u001b[33m━━━━━━━━━━━╸\u001b[0m\u001b[90m━━━━━━━━━━━\u001b[0m  30.0MB /  ??.?MB @   4.4MB/s  8.2s\u001b[2K\u001b[1A\u001b[2K\u001b[0G[+] 8.3s\n",
      "conda-forge/linux-64 \u001b[33m━━━━━━━━━━━╸\u001b[0m\u001b[90m━━━━━━━━━━━\u001b[0m  30.0MB /  ??.?MB @   4.4MB/s  8.3s\u001b[2K\u001b[1A\u001b[2K\u001b[0G[+] 8.4s\n",
      "conda-forge/linux-64 \u001b[33m━━━━━━━━━━━╸\u001b[0m\u001b[90m━━━━━━━━━━━\u001b[0m  30.0MB /  ??.?MB @   4.4MB/s  8.4s\u001b[2K\u001b[1A\u001b[2K\u001b[0G[+] 8.5s\n",
      "conda-forge/linux-64 \u001b[33m━━━━━━━━━━━╸\u001b[0m\u001b[90m━━━━━━━━━━━\u001b[0m  30.0MB /  ??.?MB @   4.4MB/s  8.5s\u001b[2K\u001b[1A\u001b[2K\u001b[0G[+] 8.6s\n",
      "conda-forge/linux-64 \u001b[33m━━━━━━━━━━━╸\u001b[0m\u001b[90m━━━━━━━━━━━\u001b[0m  30.0MB /  ??.?MB @   4.4MB/s  8.6s\u001b[2K\u001b[1A\u001b[2K\u001b[0G[+] 8.7s\n",
      "conda-forge/linux-64 \u001b[33m━━━━━━━━━━━╸\u001b[0m\u001b[90m━━━━━━━━━━━\u001b[0m  30.0MB /  ??.?MB @   4.4MB/s  8.7s\u001b[2K\u001b[1A\u001b[2K\u001b[0G[+] 8.8s\n",
      "conda-forge/linux-64 \u001b[33m━━━━━━━━━━━╸\u001b[0m\u001b[90m━━━━━━━━━━━\u001b[0m  30.0MB /  ??.?MB @   4.4MB/s  8.8s\u001b[2K\u001b[1A\u001b[2K\u001b[0G[+] 8.9s\n",
      "conda-forge/linux-64 \u001b[33m━━━━━━━━━━━╸\u001b[0m\u001b[90m━━━━━━━━━━━\u001b[0m  30.0MB /  ??.?MB @   4.4MB/s  8.9s\u001b[2K\u001b[1A\u001b[2K\u001b[0G[+] 9.0s\n",
      "conda-forge/linux-64 \u001b[33m━━━━━━━━━━━╸\u001b[0m\u001b[90m━━━━━━━━━━━\u001b[0m  30.0MB /  ??.?MB @   4.4MB/s  9.0s\u001b[2K\u001b[1A\u001b[2K\u001b[0G[+] 9.1s\n",
      "conda-forge/linux-64 \u001b[33m━━━━━━━━━━━╸\u001b[0m\u001b[90m━━━━━━━━━━━\u001b[0m  30.0MB /  ??.?MB @   4.4MB/s  9.1s\u001b[2K\u001b[1A\u001b[2K\u001b[0G[+] 9.2s\n",
      "conda-forge/linux-64 ━━━━━━━━━━━━━━━━━━━━━━  30.0MB @   4.4MB/s Finalizing  9.2s\u001b[2K\u001b[1A\u001b[2K\u001b[0G[+] 9.3s\n",
      "conda-forge/linux-64 ━━━━━━━━━━━━━━━━━━━━━━  30.0MB @   4.4MB/s Finalizing  9.3s\u001b[2K\u001b[1A\u001b[2K\u001b[0G[+] 9.4s\n",
      "conda-forge/linux-64 ━━━━━━━━━━━━━━━━━━━━━━  30.0MB @   4.4MB/s Finalizing  9.4s\u001b[2K\u001b[1A\u001b[2K\u001b[0G[+] 9.5s\n",
      "conda-forge/linux-64 ━━━━━━━━━━━━━━━━━━━━━━  30.0MB @   4.4MB/s Finalizing  9.5s\u001b[2K\u001b[1A\u001b[2K\u001b[0G[+] 9.6s\n",
      "conda-forge/linux-64 ━━━━━━━━━━━━━━━━━━━━━━  30.0MB @   4.4MB/s Finalizing  9.6s\u001b[2K\u001b[1A\u001b[2K\u001b[0G[+] 9.7s\n",
      "conda-forge/linux-64 ━━━━━━━━━━━━━━━━━━━━━━  30.0MB @   4.4MB/s Finalizing  9.7s\u001b[2K\u001b[1A\u001b[2K\u001b[0G[+] 9.8s\n",
      "conda-forge/linux-64 ━━━━━━━━━━━━━━━━━━━━━━  30.0MB @   4.4MB/s Finalizing  9.8s\u001b[2K\u001b[1A\u001b[2K\u001b[0G[+] 9.9s\n",
      "conda-forge/linux-64 ━━━━━━━━━━━━━━━━━━━━━━  30.0MB @   4.4MB/s Finalizing  9.9s\u001b[2K\u001b[1A\u001b[2K\u001b[0G[+] 10.0s\n",
      "\u001b[2K\u001b[1A\u001b[2K\u001b[0G[+] 10.1s\n",
      "\u001b[2K\u001b[1A\u001b[2K\u001b[0G[+] 10.2s\n",
      "\u001b[2K\u001b[1A\u001b[2K\u001b[0G[+] 10.3s\n",
      "\u001b[2K\u001b[1A\u001b[2K\u001b[0G[+] 10.4s\n",
      "\u001b[2K\u001b[1A\u001b[2K\u001b[0G[+] 10.5s\n",
      "\u001b[2K\u001b[1A\u001b[2K\u001b[0G[+] 10.6s\n",
      "\u001b[2K\u001b[1A\u001b[2K\u001b[0G[+] 10.7s\n",
      "\u001b[2K\u001b[1A\u001b[2K\u001b[0G[+] 10.8s\n",
      "\u001b[2K\u001b[1A\u001b[2K\u001b[0G[+] 10.9s\n",
      "\u001b[2K\u001b[1A\u001b[2K\u001b[0G[+] 11.0s\n",
      "\u001b[2K\u001b[1A\u001b[2K\u001b[0G[+] 11.1s\n",
      "\u001b[2K\u001b[1A\u001b[2K\u001b[0G[+] 11.2s\n",
      "\u001b[2K\u001b[1A\u001b[2K\u001b[0G[+] 11.3s\n",
      "\u001b[2K\u001b[1A\u001b[2K\u001b[0G[+] 11.4s\n",
      "\u001b[2K\u001b[1A\u001b[2K\u001b[0G[+] 11.5s\n",
      "\u001b[2K\u001b[1A\u001b[2K\u001b[0G[+] 11.6s\n",
      "\u001b[2K\u001b[1A\u001b[2K\u001b[0G[+] 11.7s\n",
      "\u001b[2K\u001b[1A\u001b[2K\u001b[0Gconda-forge/linux-64                               @   4.4MB/s 10.0s\n",
      "\u001b[?25h\n",
      "Pinned packages:\n",
      "  - python 3.10.*\n",
      "\n",
      "\n",
      "Transaction\n",
      "\n",
      "  Prefix: /srv/conda/envs/notebook\n",
      "\n",
      "  Updating specs:\n",
      "\n",
      "   - pystac\n",
      "   - planetary-computer\n",
      "   - ca-certificates\n",
      "   - certifi\n",
      "   - openssl\n",
      "\n",
      "\n",
      "  Package               Version  Build         Channel                  Size\n",
      "──────────────────────────────────────────────────────────────────────────────\n",
      "  Install:\n",
      "──────────────────────────────────────────────────────────────────────────────\n",
      "\n",
      "  \u001b[32m+ planetary-computer\u001b[0m    0.4.9  pyhd8ed1ab_0  conda-forge/noarch       19kB\n",
      "  \u001b[32m+ pystac            \u001b[0m    1.6.1  pyhd8ed1ab_1  conda-forge/noarch       91kB\n",
      "  \u001b[32m+ pystac-client     \u001b[0m    0.6.0  pyhd8ed1ab_0  conda-forge/noarch       30kB\n",
      "\n",
      "  Upgrade:\n",
      "──────────────────────────────────────────────────────────────────────────────\n",
      "\n",
      "  \u001b[31m- openssl           \u001b[0m    3.0.7  h0b41bf4_2    conda-forge                  \n",
      "  \u001b[32m+ openssl           \u001b[0m    3.0.8  h0b41bf4_0    conda-forge/linux-64      3MB\n",
      "\n",
      "  Summary:\n",
      "\n",
      "  Install: 3 packages\n",
      "  Upgrade: 1 packages\n",
      "\n",
      "  Total download: 3MB\n",
      "\n",
      "──────────────────────────────────────────────────────────────────────────────\n",
      "\n",
      "\n",
      "\u001b[?25l\u001b[2K\u001b[0G[+] 0.0s\n",
      "Downloading  (1) \u001b[90m━━━━━━━━━━━━━━━━━━━━━━━\u001b[0m   0.0 B pystac                     0.0s\n",
      "Extracting       \u001b[90m━━━━━━━━━━━━━━━━━━━━━━━\u001b[0m       0                            0.0s\u001b[2K\u001b[1A\u001b[2K\u001b[1A\u001b[2K\u001b[0G[+] 0.1s\n",
      "Downloading  (4) \u001b[33m━━━━━━━━━━━━━━━━━━━━━━━\u001b[0m   0.0 B pystac                     0.1s\n",
      "Extracting       \u001b[90m━━━━━━━━━━━━━━━━━━━━━━━\u001b[0m       0                            0.0s\u001b[2K\u001b[1A\u001b[2K\u001b[1A\u001b[2K\u001b[0G[+] 0.2s\n",
      "Downloading  (4) \u001b[33m━━━━━━━━━━━━━━━━━━━━━━━\u001b[0m   0.0 B pystac                     0.2s\n",
      "Extracting       \u001b[90m━━━━━━━━━━━━━━━━━━━━━━━\u001b[0m       0                            0.0s\u001b[2K\u001b[1A\u001b[2K\u001b[1A\u001b[2K\u001b[0G[+] 0.3s\n",
      "Downloading  (4) \u001b[33m━━━━━━━━━━━━━━━━━━━━━━━\u001b[0m   0.0 B pystac                     0.3s\n",
      "Extracting       \u001b[90m━━━━━━━━━━━━━━━━━━━━━━━\u001b[0m       0                            0.0s\u001b[2K\u001b[1A\u001b[2K\u001b[1A\u001b[2K\u001b[0Gpystac-client                                       29.6kB @  97.9kB/s  0.3s\n",
      "pystac                                              91.1kB @ 257.8kB/s  0.4s\n",
      "planetary-computer                                  19.1kB @  51.4kB/s  0.4s\n",
      "openssl                                              2.6MB @   6.6MB/s  0.4s\n",
      "[+] 0.4s\n",
      "Downloading      ━━━━━━━━━━━━━━━━━━━━━━━   2.7MB                            0.4s\n",
      "Extracting   (4) \u001b[90m━━━━━━━━━━━━╸\u001b[0m\u001b[33m━━━━━━━━━━\u001b[0m       0 openssl                    0.0s\u001b[2K\u001b[1A\u001b[2K\u001b[1A\u001b[2K\u001b[0G[+] 0.5s\n",
      "Downloading      ━━━━━━━━━━━━━━━━━━━━━━━   2.7MB                            0.4s\n",
      "Extracting   (4) \u001b[33m━━━━━━━╸\u001b[0m\u001b[90m━━━━━━━━━━━━━━━\u001b[0m       0 openssl                    0.1s\u001b[2K\u001b[1A\u001b[2K\u001b[1A\u001b[2K\u001b[0G[+] 0.6s\n",
      "Downloading      ━━━━━━━━━━━━━━━━━━━━━━━   2.7MB                            0.4s\n",
      "Extracting   (4) \u001b[33m━━━━━━━━╸\u001b[0m\u001b[90m━━━━━━━━━━━━━━\u001b[0m       0 openssl                    0.2s\u001b[2K\u001b[1A\u001b[2K\u001b[1A\u001b[2K\u001b[0G[+] 0.7s\n",
      "Downloading      ━━━━━━━━━━━━━━━━━━━━━━━   2.7MB                            0.4s\n",
      "Extracting   (4) \u001b[33m━━━━━━━━━╸\u001b[0m\u001b[90m━━━━━━━━━━━━━\u001b[0m       0 openssl                    0.3s\u001b[2K\u001b[1A\u001b[2K\u001b[1A\u001b[2K\u001b[0G[+] 0.8s\n",
      "Downloading      ━━━━━━━━━━━━━━━━━━━━━━━   2.7MB                            0.4s\n",
      "Extracting   (4) \u001b[33m━━━━━━━━━━╸\u001b[0m\u001b[90m━━━━━━━━━━━━\u001b[0m       0 planetary-computer         0.4s\u001b[2K\u001b[1A\u001b[2K\u001b[1A\u001b[2K\u001b[0G[+] 0.9s\n",
      "Downloading      ━━━━━━━━━━━━━━━━━━━━━━━   2.7MB                            0.4s\n",
      "Extracting   (4) \u001b[33m━━━━━━━━━━━╸\u001b[0m\u001b[90m━━━━━━━━━━━\u001b[0m       0 planetary-computer         0.5s\u001b[2K\u001b[1A\u001b[2K\u001b[1A\u001b[2K\u001b[0G[+] 1.0s\n",
      "Downloading      ━━━━━━━━━━━━━━━━━━━━━━━   2.7MB                            0.4s\n",
      "Extracting   (4) \u001b[33m━━━━━━━━━━━━━╸\u001b[0m\u001b[90m━━━━━━━━━\u001b[0m       0 planetary-computer         0.6s\u001b[2K\u001b[1A\u001b[2K\u001b[1A\u001b[2K\u001b[0G[+] 1.1s\n",
      "Downloading      ━━━━━━━━━━━━━━━━━━━━━━━   2.7MB                            0.4s\n",
      "Extracting   (4) \u001b[33m━━━━━━━━━━━━━━╸\u001b[0m\u001b[90m━━━━━━━━\u001b[0m       0 planetary-computer         0.7s\u001b[2K\u001b[1A\u001b[2K\u001b[1A\u001b[2K\u001b[0G[+] 1.2s\n",
      "Downloading      ━━━━━━━━━━━━━━━━━━━━━━━   2.7MB                            0.4s\n",
      "Extracting   (4) \u001b[33m━━━━━━━━━━━━━━━╸\u001b[0m\u001b[90m━━━━━━━\u001b[0m       0 pystac                     0.8s\u001b[2K\u001b[1A\u001b[2K\u001b[1A\u001b[2K\u001b[0G[+] 1.3s\n",
      "Downloading      ━━━━━━━━━━━━━━━━━━━━━━━   2.7MB                            0.4s\n",
      "Extracting   (4) \u001b[90m╸\u001b[0m\u001b[33m━━━━━━━━━━━━━━━╸\u001b[0m\u001b[90m━━━━━━\u001b[0m       0 pystac                     0.9s\u001b[2K\u001b[1A\u001b[2K\u001b[1A\u001b[2K\u001b[0G[+] 1.4s\n",
      "Downloading      ━━━━━━━━━━━━━━━━━━━━━━━   2.7MB                            0.4s\n",
      "Extracting   (4) \u001b[90m━╸\u001b[0m\u001b[33m━━━━━━━━━━━━━━━╸\u001b[0m\u001b[90m━━━━━\u001b[0m       0 pystac                     1.0s\u001b[2K\u001b[1A\u001b[2K\u001b[1A\u001b[2K\u001b[0G\u001b[?25hPreparing transaction: done\n",
      "Verifying transaction: done\n",
      "Executing transaction: done\n"
     ]
    }
   ],
   "source": [
    "#Install necessary packages\n",
    "#https://jakevdp.github.io/blog/2017/12/05/installing-python-packages-from-jupyter/\n",
    "!mamba install --yes pystac planetary-computer"
   ]
  },
  {
   "cell_type": "code",
   "execution_count": 19,
   "id": "ae48589c-4018-428e-87ad-7ee208a04883",
   "metadata": {},
   "outputs": [],
   "source": [
    "# Landsat-8 collection 2 from planetary computer\n",
    "# https://planetarycomputer.microsoft.com/dataset/landsat-8-c2-l2#Example-Notebook\n",
    "\n",
    "import pystac\n",
    "from pystac_client import Client\n",
    "import planetary_computer as pc"
   ]
  },
  {
   "cell_type": "markdown",
   "id": "a8215311-5548-4697-a776-e221e8a76acf",
   "metadata": {},
   "source": [
    "### Define search parameters\n",
    "* Bounding box\n",
    "* Date range"
   ]
  },
  {
   "cell_type": "code",
   "execution_count": 20,
   "id": "c8addf15-89c8-4663-9be2-c5c0a80e7d9a",
   "metadata": {},
   "outputs": [],
   "source": [
    "bbox = [-121.8,46.8,-121.6,46.9]\n",
    "dt = '2018-08-18/2018-08-18'\n",
    "dt = '2018-12-24'"
   ]
  },
  {
   "cell_type": "code",
   "execution_count": 21,
   "id": "349b9f47-8db4-4487-bfea-58e2a847cb9f",
   "metadata": {},
   "outputs": [
    {
     "name": "stdout",
     "output_type": "stream",
     "text": [
      "Returned 2 Items\n",
      "https://landsateuwest.blob.core.windows.net/landsat-c2/level-2/standard/oli-tirs/2018/046/027/LC08_L2SP_046027_20181224_20200829_02_T1/LC08_L2SP_046027_20181224_20200829_02_T1_SR_B1.TIF\n",
      "https://landsateuwest.blob.core.windows.net/landsat-c2/level-2/standard/oli-tirs/2018/046/027/LC08_L2SP_046027_20181224_20200829_02_T1/LC08_L2SP_046027_20181224_20200829_02_T1_SR_B2.TIF\n",
      "https://landsateuwest.blob.core.windows.net/landsat-c2/level-2/standard/oli-tirs/2018/046/027/LC08_L2SP_046027_20181224_20200829_02_T1/LC08_L2SP_046027_20181224_20200829_02_T1_SR_B3.TIF\n",
      "https://landsateuwest.blob.core.windows.net/landsat-c2/level-2/standard/oli-tirs/2018/046/027/LC08_L2SP_046027_20181224_20200829_02_T1/LC08_L2SP_046027_20181224_20200829_02_T1_SR_B4.TIF\n",
      "https://landsateuwest.blob.core.windows.net/landsat-c2/level-2/standard/oli-tirs/2018/046/027/LC08_L2SP_046027_20181224_20200829_02_T1/LC08_L2SP_046027_20181224_20200829_02_T1_SR_B5.TIF\n",
      "https://landsateuwest.blob.core.windows.net/landsat-c2/level-2/standard/oli-tirs/2018/046/027/LC08_L2SP_046027_20181224_20200829_02_T1/LC08_L2SP_046027_20181224_20200829_02_T1_SR_B6.TIF\n",
      "https://landsateuwest.blob.core.windows.net/landsat-c2/level-2/standard/oli-tirs/2018/046/027/LC08_L2SP_046027_20181224_20200829_02_T1/LC08_L2SP_046027_20181224_20200829_02_T1_SR_B7.TIF\n",
      "https://landsateuwest.blob.core.windows.net/landsat-c2/level-2/standard/oli-tirs/2018/046/027/LC08_L2SP_046027_20181224_20200829_02_T1/LC08_L2SP_046027_20181224_20200829_02_T1_ST_B10.TIF\n",
      "https://landsateuwest.blob.core.windows.net/landsat-c2/level-2/standard/oli-tirs/2018/046/027/LC08_L2SP_046027_20181224_20200829_02_T1/LC08_L2SP_046027_20181224_20200829_02_T1_thumb_large.jpeg\n"
     ]
    }
   ],
   "source": [
    "catalog = Client.open(\"https://planetarycomputer.microsoft.com/api/stac/v1\")\n",
    "\n",
    "results = catalog.search(collections=['landsat-8-c2-l2'], bbox=bbox, datetime=dt)\n",
    "\n",
    "# Check how many items were returned\n",
    "items = list(results.get_items())\n",
    "print(f\"Returned {len(items)} Items\")\n",
    "\n",
    "#This is Row 27\n",
    "item = items[1]\n",
    "#items.assets\n",
    "\n",
    "for asset_id in asset_id_list:\n",
    "    asset = item.assets[asset_id]\n",
    "    print(asset.href)\n",
    "    # NOTE: must 'sign' asset URLs before you can access them\n",
    "    signed_asset = pc.sign_asset(asset)\n",
    "    #print(signed_asset.href)\n",
    "    #Local filename\n",
    "    out_fn = os.path.join(imgdir, os.path.split(asset.href)[-1])\n",
    "    #Check to see if file already exists\n",
    "    if not os.path.exists(out_fn):\n",
    "        print(\"Saving:\", out_fn)\n",
    "        #Download the file\n",
    "        #urllib.request.urlretrieve(signed_asset.href, out_fn)"
   ]
  },
  {
   "cell_type": "code",
   "execution_count": 22,
   "id": "16af5980-7ff4-466e-ad48-a221fcf1738e",
   "metadata": {},
   "outputs": [],
   "source": [
    "#Open image on the fly\n",
    "#with rasterio.open(signed_asset.href) as src:\n",
    "#    print(src.profile)"
   ]
  },
  {
   "cell_type": "markdown",
   "id": "e20d1567-f6e4-43ee-8b4f-52c1598740c8",
   "metadata": {},
   "source": [
    "### Download Collection 1 Level 1 products (L1TP)\n",
    "* Terrain Precision Correction (L1TP) products\n",
    "    * \"Radiometrically calibrated and orthorectified using ground control points (GCPs) and digital elevation model (DEM) data to correct for relief displacement.\"\n",
    "    * \"scaled and calibrated digital numbers (DN). The DN’s can be scaled to absolutely calibrated radiance or reflectance values using metadata which are distributed with the product. Formulas and information on converting Level-1 data to Top-of-Atmosphere radiance, reflectance, or brightness temperature can be found on the Using the USGS Landsat Level-1 Data Product page.\"\n",
    "* See \"Landsat Level-1 Processing Levels\" https://www.usgs.gov/landsat-missions/landsat-collection-1\n",
    "* Hosted in Google Cloud with no costs for access: https://cloud.google.com/storage/docs/public-datasets/landsat\n",
    "    * Transfer rates from Google Cloud should be excellent, as we're running this Jupyterhub on a Google Cloud Platform (GCP) server"
   ]
  },
  {
   "cell_type": "code",
   "execution_count": 23,
   "id": "028f21e8-cffb-461e-8314-4369e65a2809",
   "metadata": {},
   "outputs": [],
   "source": [
    "#Use Google Cloud archive\n",
    "base_url = 'https://storage.googleapis.com/gcp-public-data-landsat/LC08/01'"
   ]
  },
  {
   "cell_type": "code",
   "execution_count": 24,
   "id": "aaed5836-4cdf-4bae-9940-0c0a562d6695",
   "metadata": {},
   "outputs": [],
   "source": [
    "#Define Landsat path/row for Western Washington\n",
    "path = 45\n",
    "row = 27\n",
    "\n",
    "#Pre-identified cloud-free Image IDs for this path/row \n",
    "#Summer 2018\n",
    "img_id1 = 'LC08_L1TP_046027_20180818_20180829_01_T1'\n",
    "#Winter 2018\n",
    "img_id2 = 'LC08_L1TP_046027_20181224_20190129_01_T1'\n",
    "\n",
    "img_list = (img_id2, img_id1)\n",
    "#img_list = (img_id1,)"
   ]
  },
  {
   "cell_type": "code",
   "execution_count": 25,
   "id": "dcce33ed-06f2-4348-a8d1-f74ec0ecb69d",
   "metadata": {
    "tags": []
   },
   "outputs": [
    {
     "name": "stdout",
     "output_type": "stream",
     "text": [
      "https://storage.googleapis.com/gcp-public-data-landsat/LC08/01/045/027/LC08_L1TP_046027_20181224_20190129_01_T1/LC08_L1TP_046027_20181224_20190129_01_T1_B1.TIF\n",
      "Saving: LS8_sample/LC08_L1TP_046027_20181224_20190129_01_T1_B1.TIF\n"
     ]
    },
    {
     "ename": "HTTPError",
     "evalue": "HTTP Error 404: Not Found",
     "output_type": "error",
     "traceback": [
      "\u001b[0;31m---------------------------------------------------------------------------\u001b[0m",
      "\u001b[0;31mHTTPError\u001b[0m                                 Traceback (most recent call last)",
      "Cell \u001b[0;32mIn[25], line 13\u001b[0m\n\u001b[1;32m     11\u001b[0m \u001b[38;5;28mprint\u001b[39m(\u001b[38;5;124m\"\u001b[39m\u001b[38;5;124mSaving:\u001b[39m\u001b[38;5;124m\"\u001b[39m, out_fn)\n\u001b[1;32m     12\u001b[0m \u001b[38;5;66;03m#Download the file\u001b[39;00m\n\u001b[0;32m---> 13\u001b[0m \u001b[43murllib\u001b[49m\u001b[38;5;241;43m.\u001b[39;49m\u001b[43mrequest\u001b[49m\u001b[38;5;241;43m.\u001b[39;49m\u001b[43murlretrieve\u001b[49m\u001b[43m(\u001b[49m\u001b[43mimage_url\u001b[49m\u001b[43m,\u001b[49m\u001b[43m \u001b[49m\u001b[43mout_fn\u001b[49m\u001b[43m)\u001b[49m\n",
      "File \u001b[0;32m/srv/conda/envs/notebook/lib/python3.10/urllib/request.py:241\u001b[0m, in \u001b[0;36murlretrieve\u001b[0;34m(url, filename, reporthook, data)\u001b[0m\n\u001b[1;32m    224\u001b[0m \u001b[38;5;250m\u001b[39m\u001b[38;5;124;03m\"\"\"\u001b[39;00m\n\u001b[1;32m    225\u001b[0m \u001b[38;5;124;03mRetrieve a URL into a temporary location on disk.\u001b[39;00m\n\u001b[1;32m    226\u001b[0m \n\u001b[0;32m   (...)\u001b[0m\n\u001b[1;32m    237\u001b[0m \u001b[38;5;124;03mdata file as well as the resulting HTTPMessage object.\u001b[39;00m\n\u001b[1;32m    238\u001b[0m \u001b[38;5;124;03m\"\"\"\u001b[39;00m\n\u001b[1;32m    239\u001b[0m url_type, path \u001b[38;5;241m=\u001b[39m _splittype(url)\n\u001b[0;32m--> 241\u001b[0m \u001b[38;5;28;01mwith\u001b[39;00m contextlib\u001b[38;5;241m.\u001b[39mclosing(\u001b[43murlopen\u001b[49m\u001b[43m(\u001b[49m\u001b[43murl\u001b[49m\u001b[43m,\u001b[49m\u001b[43m \u001b[49m\u001b[43mdata\u001b[49m\u001b[43m)\u001b[49m) \u001b[38;5;28;01mas\u001b[39;00m fp:\n\u001b[1;32m    242\u001b[0m     headers \u001b[38;5;241m=\u001b[39m fp\u001b[38;5;241m.\u001b[39minfo()\n\u001b[1;32m    244\u001b[0m     \u001b[38;5;66;03m# Just return the local path and the \"headers\" for file://\u001b[39;00m\n\u001b[1;32m    245\u001b[0m     \u001b[38;5;66;03m# URLs. No sense in performing a copy unless requested.\u001b[39;00m\n",
      "File \u001b[0;32m/srv/conda/envs/notebook/lib/python3.10/urllib/request.py:216\u001b[0m, in \u001b[0;36murlopen\u001b[0;34m(url, data, timeout, cafile, capath, cadefault, context)\u001b[0m\n\u001b[1;32m    214\u001b[0m \u001b[38;5;28;01melse\u001b[39;00m:\n\u001b[1;32m    215\u001b[0m     opener \u001b[38;5;241m=\u001b[39m _opener\n\u001b[0;32m--> 216\u001b[0m \u001b[38;5;28;01mreturn\u001b[39;00m \u001b[43mopener\u001b[49m\u001b[38;5;241;43m.\u001b[39;49m\u001b[43mopen\u001b[49m\u001b[43m(\u001b[49m\u001b[43murl\u001b[49m\u001b[43m,\u001b[49m\u001b[43m \u001b[49m\u001b[43mdata\u001b[49m\u001b[43m,\u001b[49m\u001b[43m \u001b[49m\u001b[43mtimeout\u001b[49m\u001b[43m)\u001b[49m\n",
      "File \u001b[0;32m/srv/conda/envs/notebook/lib/python3.10/urllib/request.py:525\u001b[0m, in \u001b[0;36mOpenerDirector.open\u001b[0;34m(self, fullurl, data, timeout)\u001b[0m\n\u001b[1;32m    523\u001b[0m \u001b[38;5;28;01mfor\u001b[39;00m processor \u001b[38;5;129;01min\u001b[39;00m \u001b[38;5;28mself\u001b[39m\u001b[38;5;241m.\u001b[39mprocess_response\u001b[38;5;241m.\u001b[39mget(protocol, []):\n\u001b[1;32m    524\u001b[0m     meth \u001b[38;5;241m=\u001b[39m \u001b[38;5;28mgetattr\u001b[39m(processor, meth_name)\n\u001b[0;32m--> 525\u001b[0m     response \u001b[38;5;241m=\u001b[39m \u001b[43mmeth\u001b[49m\u001b[43m(\u001b[49m\u001b[43mreq\u001b[49m\u001b[43m,\u001b[49m\u001b[43m \u001b[49m\u001b[43mresponse\u001b[49m\u001b[43m)\u001b[49m\n\u001b[1;32m    527\u001b[0m \u001b[38;5;28;01mreturn\u001b[39;00m response\n",
      "File \u001b[0;32m/srv/conda/envs/notebook/lib/python3.10/urllib/request.py:634\u001b[0m, in \u001b[0;36mHTTPErrorProcessor.http_response\u001b[0;34m(self, request, response)\u001b[0m\n\u001b[1;32m    631\u001b[0m \u001b[38;5;66;03m# According to RFC 2616, \"2xx\" code indicates that the client's\u001b[39;00m\n\u001b[1;32m    632\u001b[0m \u001b[38;5;66;03m# request was successfully received, understood, and accepted.\u001b[39;00m\n\u001b[1;32m    633\u001b[0m \u001b[38;5;28;01mif\u001b[39;00m \u001b[38;5;129;01mnot\u001b[39;00m (\u001b[38;5;241m200\u001b[39m \u001b[38;5;241m<\u001b[39m\u001b[38;5;241m=\u001b[39m code \u001b[38;5;241m<\u001b[39m \u001b[38;5;241m300\u001b[39m):\n\u001b[0;32m--> 634\u001b[0m     response \u001b[38;5;241m=\u001b[39m \u001b[38;5;28;43mself\u001b[39;49m\u001b[38;5;241;43m.\u001b[39;49m\u001b[43mparent\u001b[49m\u001b[38;5;241;43m.\u001b[39;49m\u001b[43merror\u001b[49m\u001b[43m(\u001b[49m\n\u001b[1;32m    635\u001b[0m \u001b[43m        \u001b[49m\u001b[38;5;124;43m'\u001b[39;49m\u001b[38;5;124;43mhttp\u001b[39;49m\u001b[38;5;124;43m'\u001b[39;49m\u001b[43m,\u001b[49m\u001b[43m \u001b[49m\u001b[43mrequest\u001b[49m\u001b[43m,\u001b[49m\u001b[43m \u001b[49m\u001b[43mresponse\u001b[49m\u001b[43m,\u001b[49m\u001b[43m \u001b[49m\u001b[43mcode\u001b[49m\u001b[43m,\u001b[49m\u001b[43m \u001b[49m\u001b[43mmsg\u001b[49m\u001b[43m,\u001b[49m\u001b[43m \u001b[49m\u001b[43mhdrs\u001b[49m\u001b[43m)\u001b[49m\n\u001b[1;32m    637\u001b[0m \u001b[38;5;28;01mreturn\u001b[39;00m response\n",
      "File \u001b[0;32m/srv/conda/envs/notebook/lib/python3.10/urllib/request.py:563\u001b[0m, in \u001b[0;36mOpenerDirector.error\u001b[0;34m(self, proto, *args)\u001b[0m\n\u001b[1;32m    561\u001b[0m \u001b[38;5;28;01mif\u001b[39;00m http_err:\n\u001b[1;32m    562\u001b[0m     args \u001b[38;5;241m=\u001b[39m (\u001b[38;5;28mdict\u001b[39m, \u001b[38;5;124m'\u001b[39m\u001b[38;5;124mdefault\u001b[39m\u001b[38;5;124m'\u001b[39m, \u001b[38;5;124m'\u001b[39m\u001b[38;5;124mhttp_error_default\u001b[39m\u001b[38;5;124m'\u001b[39m) \u001b[38;5;241m+\u001b[39m orig_args\n\u001b[0;32m--> 563\u001b[0m     \u001b[38;5;28;01mreturn\u001b[39;00m \u001b[38;5;28;43mself\u001b[39;49m\u001b[38;5;241;43m.\u001b[39;49m\u001b[43m_call_chain\u001b[49m\u001b[43m(\u001b[49m\u001b[38;5;241;43m*\u001b[39;49m\u001b[43margs\u001b[49m\u001b[43m)\u001b[49m\n",
      "File \u001b[0;32m/srv/conda/envs/notebook/lib/python3.10/urllib/request.py:496\u001b[0m, in \u001b[0;36mOpenerDirector._call_chain\u001b[0;34m(self, chain, kind, meth_name, *args)\u001b[0m\n\u001b[1;32m    494\u001b[0m \u001b[38;5;28;01mfor\u001b[39;00m handler \u001b[38;5;129;01min\u001b[39;00m handlers:\n\u001b[1;32m    495\u001b[0m     func \u001b[38;5;241m=\u001b[39m \u001b[38;5;28mgetattr\u001b[39m(handler, meth_name)\n\u001b[0;32m--> 496\u001b[0m     result \u001b[38;5;241m=\u001b[39m \u001b[43mfunc\u001b[49m\u001b[43m(\u001b[49m\u001b[38;5;241;43m*\u001b[39;49m\u001b[43margs\u001b[49m\u001b[43m)\u001b[49m\n\u001b[1;32m    497\u001b[0m     \u001b[38;5;28;01mif\u001b[39;00m result \u001b[38;5;129;01mis\u001b[39;00m \u001b[38;5;129;01mnot\u001b[39;00m \u001b[38;5;28;01mNone\u001b[39;00m:\n\u001b[1;32m    498\u001b[0m         \u001b[38;5;28;01mreturn\u001b[39;00m result\n",
      "File \u001b[0;32m/srv/conda/envs/notebook/lib/python3.10/urllib/request.py:643\u001b[0m, in \u001b[0;36mHTTPDefaultErrorHandler.http_error_default\u001b[0;34m(self, req, fp, code, msg, hdrs)\u001b[0m\n\u001b[1;32m    642\u001b[0m \u001b[38;5;28;01mdef\u001b[39;00m \u001b[38;5;21mhttp_error_default\u001b[39m(\u001b[38;5;28mself\u001b[39m, req, fp, code, msg, hdrs):\n\u001b[0;32m--> 643\u001b[0m     \u001b[38;5;28;01mraise\u001b[39;00m HTTPError(req\u001b[38;5;241m.\u001b[39mfull_url, code, msg, hdrs, fp)\n",
      "\u001b[0;31mHTTPError\u001b[0m: HTTP Error 404: Not Found"
     ]
    }
   ],
   "source": [
    "#Loop through all selected images and all bands\n",
    "for img in img_list:\n",
    "    for b in range(1,12):\n",
    "        #Generate the appropriate URL for the images we identified\n",
    "        image_url =  '{0}/{1:03d}/{2:03d}/{3}/{3}_B{4}.TIF'.format(base_url, path, row, img, b)\n",
    "        print(image_url)\n",
    "        #Local filename\n",
    "        out_fn = os.path.join(imgdir, os.path.split(image_url)[-1])\n",
    "        #Check to see if file already exists\n",
    "        if not os.path.exists(out_fn):\n",
    "            print(\"Saving:\", out_fn)\n",
    "            #Download the file\n",
    "            urllib.request.urlretrieve(image_url, out_fn)"
   ]
  }
 ],
 "metadata": {
  "kernelspec": {
   "display_name": "Python 3 (ipykernel)",
   "language": "python",
   "name": "python3"
  },
  "language_info": {
   "codemirror_mode": {
    "name": "ipython",
    "version": 3
   },
   "file_extension": ".py",
   "mimetype": "text/x-python",
   "name": "python",
   "nbconvert_exporter": "python",
   "pygments_lexer": "ipython3",
   "version": "3.10.9"
  }
 },
 "nbformat": 4,
 "nbformat_minor": 5
}
